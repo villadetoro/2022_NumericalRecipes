{
 "cells": [
  {
   "cell_type": "markdown",
   "id": "under-lemon",
   "metadata": {
    "deletable": false,
    "editable": false,
    "nbgrader": {
     "cell_type": "markdown",
     "checksum": "4c58f72587d434b02e00366b8384ce56",
     "grade": false,
     "grade_id": "cell-179ae794a185f8b3",
     "locked": true,
     "schema_version": 3,
     "solution": false,
     "task": false
    }
   },
   "source": [
    "# Checkpoint 2\n",
    "### Due: Tuesday, 8 November, 2022 at 11:00am BST\n",
    "\n",
    "### Total points: 100\n",
    "\n",
    "### Read This First\n",
    "\n",
    "Wherever you see raise NotImplementedError(), remove that line and put your code there.\n",
    "\n",
    "Put the code that produces the output for a given task in the cell indicated. You are welcome to add as many cells as you like for imports, function definitions, variables, etc.\n",
    "\n",
    "Your notebook must run correctly when executed once from start to finish. Your notebook will be graded based on how it runs, not how it looks when you submit it. To test this, go to the Kernel menu and select Restart & Run All.\n",
    "\n",
    "Once you are happy with it, clear the output by selecting Restart & Clear Output from the Kernel menu.\n",
    "\n",
    "You should aim for your code to not take more than around a minute per task. \n",
    "\n",
    "Submit through Noteable."
   ]
  },
  {
   "cell_type": "markdown",
   "id": "operational-maryland",
   "metadata": {
    "deletable": false,
    "editable": false,
    "nbgrader": {
     "cell_type": "markdown",
     "checksum": "4e06c591d3152ba76fa2ab17fb95d972",
     "grade": false,
     "grade_id": "cell-0b6698cfafd847dc",
     "locked": true,
     "schema_version": 3,
     "solution": false,
     "task": false
    }
   },
   "source": [
    "# Task 1 (20 points)\n",
    "\n",
    "The first task is to find the number of local minima of the function. \n",
    "The function is defined in any number of dimensions. \n",
    "\n",
    "And your job is to function the number of local minimima of the function for dimensions 1, 2 3, 4, 5. Your code should return the list or array of 5 integer values.\n",
    "\n",
    "The number of local minima for ndim = 1 should be 4. All the minimima should be within -10..10 range\n",
    "\n",
    "We also know that the function has no minima separated by less than 0.01."
   ]
  },
  {
   "cell_type": "code",
   "execution_count": 1,
   "id": "false-impression",
   "metadata": {
    "deletable": false,
    "editable": false,
    "nbgrader": {
     "cell_type": "code",
     "checksum": "71ceefbe23bc6efc70ff431aaa3279c8",
     "grade": false,
     "grade_id": "cell-193fa5b6b82a2a35",
     "locked": true,
     "schema_version": 3,
     "solution": false,
     "task": false
    }
   },
   "outputs": [],
   "source": [
    "import numpy as np\n",
    "import scipy.optimize\n",
    "import scipy.linalg\n",
    "import matplotlib.pyplot as plt\n",
    "import scipy.stats\n",
    "%matplotlib inline"
   ]
  },
  {
   "cell_type": "code",
   "execution_count": 2,
   "id": "convinced-career",
   "metadata": {
    "deletable": false,
    "editable": false,
    "nbgrader": {
     "cell_type": "code",
     "checksum": "96106c20af19917c9486078842eb9bd9",
     "grade": false,
     "grade_id": "cell-aa6033a13e16d38b",
     "locked": true,
     "schema_version": 3,
     "solution": false,
     "task": false
    }
   },
   "outputs": [
    {
     "name": "stdout",
     "output_type": "stream",
     "text": [
      "-1.5339371748888972\n",
      "155.5936341672975\n",
      "80.92394156884913\n"
     ]
    }
   ],
   "source": [
    "T1_D = np.load('ch2_task1.npz')['D']\n",
    "dims = [1, 2, 3, 4, 5]\n",
    "import scipy.special as ssp\n",
    "\n",
    "def blackbox_func(p):\n",
    "    \"\"\"\n",
    "    This is is the function that you need to optimize\n",
    "    DO NOT CHANGE THE CODE INSIDE THIS FUNCTION\n",
    "    \"\"\"\n",
    "    p = np.asarray(p)\n",
    "    ndim = len(p)\n",
    "    pos = dims.index(ndim)\n",
    "    curD = T1_D[10000 * pos:10000 * (pos + 1), :ndim]\n",
    "    return -ssp.logsumexp(np.sum(-0.5 * ((p[None, :] - curD) / .3)**2, axis=1))\n",
    "\n",
    "# The function is defined in  1,2,3,4,5 dimensions\n",
    "print (blackbox_func([0]))\n",
    "print (blackbox_func([0,0]))\n",
    "print (blackbox_func([0,0,0]))\n"
   ]
  },
  {
   "cell_type": "code",
   "execution_count": 3,
   "id": "d5391de4",
   "metadata": {
    "deletable": false,
    "nbgrader": {
     "cell_type": "code",
     "checksum": "66b6bb7a10f6b823d09463d05b67287d",
     "grade": true,
     "grade_id": "cell-4d36c746588f1de8",
     "locked": false,
     "points": 0,
     "schema_version": 3,
     "solution": true,
     "task": false
    }
   },
   "outputs": [],
   "source": [
    "def find_nminima():\n",
    "    \"\"\"\n",
    "    This function returns list of 5 integers corresponding to the number of minima per dimension \n",
    "    \"\"\"\n",
    "    \n",
    "    # list to store the number of local minima per dimension\n",
    "    dim_min = [] \n",
    "    \n",
    "    # iteration to find the minima number per dimension\n",
    "    for j in range(1,6):\n",
    "        \n",
    "        # array to store the minimum point\n",
    "        min_val = np.array([np.zeros([j])])\n",
    "\n",
    "        # iteration to try different initial guesses\n",
    "        for i in range(50):\n",
    "            \n",
    "            # intial guess, inside the range that the minima are in \n",
    "            x0 = np.random.uniform(-10.01, 10.01,size=j)\n",
    "\n",
    "            res = np.array([scipy.optimize.minimize(blackbox_func, x0, method='Nelder-Mead', tol = 1e-6)[\"x\"]])   \n",
    "            \n",
    "            # np.around with 2 decimal places to take into acocunt that no minima is separated by less than 0.01\n",
    "            min_val = np.around(np.append(res, min_val, axis = 0), 2)\n",
    "    \n",
    "        # -1 because the min_val array had a default row of zeros\n",
    "        dim_min.append(len(np.unique(min_val, axis = 0)  ) - 1 ) \n",
    "        \n",
    "        print(min_val)\n",
    "     \n",
    "    \n",
    "    return dim_min"
   ]
  },
  {
   "cell_type": "code",
   "execution_count": 4,
   "id": "128ed18a",
   "metadata": {
    "deletable": false,
    "editable": false,
    "nbgrader": {
     "cell_type": "code",
     "checksum": "23a71409899f0561a2d937cc6df6b51f",
     "grade": true,
     "grade_id": "cell-306cce0c0780fe5a",
     "locked": true,
     "points": 0,
     "schema_version": 3,
     "solution": false,
     "task": false
    }
   },
   "outputs": [
    {
     "name": "stdout",
     "output_type": "stream",
     "text": [
      "[[ 2.36]\n",
      " [-9.48]\n",
      " [ 3.94]\n",
      " [ 3.94]\n",
      " [ 3.94]\n",
      " [ 2.36]\n",
      " [ 2.36]\n",
      " [-9.48]\n",
      " [ 1.59]\n",
      " [ 2.36]\n",
      " [ 2.36]\n",
      " [ 3.94]\n",
      " [ 2.36]\n",
      " [ 2.36]\n",
      " [ 1.59]\n",
      " [ 3.94]\n",
      " [ 1.59]\n",
      " [-9.48]\n",
      " [ 3.94]\n",
      " [ 2.36]\n",
      " [-9.48]\n",
      " [ 2.36]\n",
      " [-9.48]\n",
      " [ 3.94]\n",
      " [ 2.36]\n",
      " [ 2.36]\n",
      " [-9.48]\n",
      " [ 2.36]\n",
      " [ 1.59]\n",
      " [ 2.36]\n",
      " [ 1.59]\n",
      " [ 1.59]\n",
      " [-9.48]\n",
      " [ 2.36]\n",
      " [-9.48]\n",
      " [ 2.36]\n",
      " [ 2.36]\n",
      " [ 1.59]\n",
      " [-9.48]\n",
      " [-9.48]\n",
      " [ 2.36]\n",
      " [-9.48]\n",
      " [ 1.59]\n",
      " [ 3.94]\n",
      " [ 2.36]\n",
      " [-9.48]\n",
      " [-9.48]\n",
      " [ 1.59]\n",
      " [ 1.59]\n",
      " [ 3.94]\n",
      " [ 0.  ]]\n",
      "[[ 2.95  5.74]\n",
      " [-5.17 -4.01]\n",
      " [ 2.95  5.74]\n",
      " [-5.17 -4.01]\n",
      " [-5.17 -4.01]\n",
      " [ 2.95  5.74]\n",
      " [ 2.95  5.74]\n",
      " [-5.17 -4.01]\n",
      " [-5.17 -4.01]\n",
      " [ 2.95  5.74]\n",
      " [-5.17 -4.01]\n",
      " [ 2.95  5.74]\n",
      " [-5.17 -4.01]\n",
      " [-5.17 -4.01]\n",
      " [-5.17 -4.01]\n",
      " [ 2.95  5.74]\n",
      " [ 2.95  5.74]\n",
      " [-5.17 -4.01]\n",
      " [-5.17 -4.01]\n",
      " [-5.17 -4.01]\n",
      " [ 2.95  5.74]\n",
      " [-5.17 -4.01]\n",
      " [-5.17 -4.01]\n",
      " [ 2.95  5.74]\n",
      " [ 2.95  5.74]\n",
      " [ 2.95  5.74]\n",
      " [-5.17 -4.01]\n",
      " [ 2.95  5.74]\n",
      " [-5.17 -4.01]\n",
      " [-5.17 -4.01]\n",
      " [ 2.95  5.74]\n",
      " [-5.17 -4.01]\n",
      " [ 2.95  5.74]\n",
      " [-5.17 -4.01]\n",
      " [ 2.95  5.74]\n",
      " [-5.17 -4.01]\n",
      " [-5.17 -4.01]\n",
      " [-5.17 -4.01]\n",
      " [-5.17 -4.01]\n",
      " [ 2.95  5.74]\n",
      " [ 2.95  5.74]\n",
      " [-5.17 -4.01]\n",
      " [ 2.95  5.74]\n",
      " [-5.17 -4.01]\n",
      " [ 2.95  5.74]\n",
      " [ 2.95  5.74]\n",
      " [-5.17 -4.01]\n",
      " [-5.17 -4.01]\n",
      " [ 2.95  5.74]\n",
      " [-5.17 -4.01]\n",
      " [ 0.    0.  ]]\n"
     ]
    },
    {
     "ename": "KeyboardInterrupt",
     "evalue": "",
     "output_type": "error",
     "traceback": [
      "\u001b[0;31m---------------------------------------------------------------------------\u001b[0m",
      "\u001b[0;31mKeyboardInterrupt\u001b[0m                         Traceback (most recent call last)",
      "Input \u001b[0;32mIn [4]\u001b[0m, in \u001b[0;36m<cell line: 1>\u001b[0;34m()\u001b[0m\n\u001b[0;32m----> 1\u001b[0m my_minima \u001b[38;5;241m=\u001b[39m \u001b[43mfind_nminima\u001b[49m\u001b[43m(\u001b[49m\u001b[43m)\u001b[49m\n\u001b[1;32m      2\u001b[0m \u001b[38;5;28;01massert\u001b[39;00m \u001b[38;5;28mlen\u001b[39m(my_minima) \u001b[38;5;241m==\u001b[39m \u001b[38;5;241m5\u001b[39m\n\u001b[1;32m      3\u001b[0m \u001b[38;5;28;01massert\u001b[39;00m (my_minima[\u001b[38;5;241m0\u001b[39m]) \u001b[38;5;241m==\u001b[39m \u001b[38;5;241m4\u001b[39m\n",
      "Input \u001b[0;32mIn [3]\u001b[0m, in \u001b[0;36mfind_nminima\u001b[0;34m()\u001b[0m\n\u001b[1;32m     16\u001b[0m \u001b[38;5;28;01mfor\u001b[39;00m i \u001b[38;5;129;01min\u001b[39;00m \u001b[38;5;28mrange\u001b[39m(\u001b[38;5;241m50\u001b[39m):\n\u001b[1;32m     17\u001b[0m     \n\u001b[1;32m     18\u001b[0m     \u001b[38;5;66;03m# intial guess, inside the range that the minima are in \u001b[39;00m\n\u001b[1;32m     19\u001b[0m     x0 \u001b[38;5;241m=\u001b[39m np\u001b[38;5;241m.\u001b[39mrandom\u001b[38;5;241m.\u001b[39muniform(\u001b[38;5;241m-\u001b[39m\u001b[38;5;241m10.01\u001b[39m, \u001b[38;5;241m10.01\u001b[39m,size\u001b[38;5;241m=\u001b[39mj)\n\u001b[0;32m---> 21\u001b[0m     res \u001b[38;5;241m=\u001b[39m np\u001b[38;5;241m.\u001b[39marray([\u001b[43mscipy\u001b[49m\u001b[38;5;241;43m.\u001b[39;49m\u001b[43moptimize\u001b[49m\u001b[38;5;241;43m.\u001b[39;49m\u001b[43mminimize\u001b[49m\u001b[43m(\u001b[49m\u001b[43mblackbox_func\u001b[49m\u001b[43m,\u001b[49m\u001b[43m \u001b[49m\u001b[43mx0\u001b[49m\u001b[43m,\u001b[49m\u001b[43m \u001b[49m\u001b[43mmethod\u001b[49m\u001b[38;5;241;43m=\u001b[39;49m\u001b[38;5;124;43m'\u001b[39;49m\u001b[38;5;124;43mNelder-Mead\u001b[39;49m\u001b[38;5;124;43m'\u001b[39;49m\u001b[43m,\u001b[49m\u001b[43m \u001b[49m\u001b[43mtol\u001b[49m\u001b[43m \u001b[49m\u001b[38;5;241;43m=\u001b[39;49m\u001b[43m \u001b[49m\u001b[38;5;241;43m1e-6\u001b[39;49m\u001b[43m)\u001b[49m[\u001b[38;5;124m\"\u001b[39m\u001b[38;5;124mx\u001b[39m\u001b[38;5;124m\"\u001b[39m]])   \n\u001b[1;32m     23\u001b[0m     \u001b[38;5;66;03m# np.around with 2 decimal places to take into acocunt that no minima is separated by less than 0.01\u001b[39;00m\n\u001b[1;32m     24\u001b[0m     min_val \u001b[38;5;241m=\u001b[39m np\u001b[38;5;241m.\u001b[39maround(np\u001b[38;5;241m.\u001b[39mappend(res, min_val, axis \u001b[38;5;241m=\u001b[39m \u001b[38;5;241m0\u001b[39m), \u001b[38;5;241m2\u001b[39m)\n",
      "File \u001b[0;32m/opt/conda/lib/python3.9/site-packages/scipy/optimize/_minimize.py:611\u001b[0m, in \u001b[0;36mminimize\u001b[0;34m(fun, x0, args, method, jac, hess, hessp, bounds, constraints, tol, callback, options)\u001b[0m\n\u001b[1;32m    608\u001b[0m     constraints \u001b[38;5;241m=\u001b[39m standardize_constraints(constraints, x0, meth)\n\u001b[1;32m    610\u001b[0m \u001b[38;5;28;01mif\u001b[39;00m meth \u001b[38;5;241m==\u001b[39m \u001b[38;5;124m'\u001b[39m\u001b[38;5;124mnelder-mead\u001b[39m\u001b[38;5;124m'\u001b[39m:\n\u001b[0;32m--> 611\u001b[0m     \u001b[38;5;28;01mreturn\u001b[39;00m \u001b[43m_minimize_neldermead\u001b[49m\u001b[43m(\u001b[49m\u001b[43mfun\u001b[49m\u001b[43m,\u001b[49m\u001b[43m \u001b[49m\u001b[43mx0\u001b[49m\u001b[43m,\u001b[49m\u001b[43m \u001b[49m\u001b[43margs\u001b[49m\u001b[43m,\u001b[49m\u001b[43m \u001b[49m\u001b[43mcallback\u001b[49m\u001b[43m,\u001b[49m\u001b[43m \u001b[49m\u001b[43mbounds\u001b[49m\u001b[38;5;241;43m=\u001b[39;49m\u001b[43mbounds\u001b[49m\u001b[43m,\u001b[49m\n\u001b[1;32m    612\u001b[0m \u001b[43m                                \u001b[49m\u001b[38;5;241;43m*\u001b[39;49m\u001b[38;5;241;43m*\u001b[39;49m\u001b[43moptions\u001b[49m\u001b[43m)\u001b[49m\n\u001b[1;32m    613\u001b[0m \u001b[38;5;28;01melif\u001b[39;00m meth \u001b[38;5;241m==\u001b[39m \u001b[38;5;124m'\u001b[39m\u001b[38;5;124mpowell\u001b[39m\u001b[38;5;124m'\u001b[39m:\n\u001b[1;32m    614\u001b[0m     \u001b[38;5;28;01mreturn\u001b[39;00m _minimize_powell(fun, x0, args, callback, bounds, \u001b[38;5;241m*\u001b[39m\u001b[38;5;241m*\u001b[39moptions)\n",
      "File \u001b[0;32m/opt/conda/lib/python3.9/site-packages/scipy/optimize/optimize.py:793\u001b[0m, in \u001b[0;36m_minimize_neldermead\u001b[0;34m(func, x0, args, callback, maxiter, maxfev, disp, return_all, initial_simplex, xatol, fatol, adaptive, bounds, **unknown_options)\u001b[0m\n\u001b[1;32m    791\u001b[0m \u001b[38;5;28;01mif\u001b[39;00m bounds \u001b[38;5;129;01mis\u001b[39;00m \u001b[38;5;129;01mnot\u001b[39;00m \u001b[38;5;28;01mNone\u001b[39;00m:\n\u001b[1;32m    792\u001b[0m     xc \u001b[38;5;241m=\u001b[39m np\u001b[38;5;241m.\u001b[39mclip(xc, lower_bound, upper_bound)\n\u001b[0;32m--> 793\u001b[0m fxc \u001b[38;5;241m=\u001b[39m \u001b[43mfunc\u001b[49m\u001b[43m(\u001b[49m\u001b[43mxc\u001b[49m\u001b[43m)\u001b[49m\n\u001b[1;32m    795\u001b[0m \u001b[38;5;28;01mif\u001b[39;00m fxc \u001b[38;5;241m<\u001b[39m\u001b[38;5;241m=\u001b[39m fxr:\n\u001b[1;32m    796\u001b[0m     sim[\u001b[38;5;241m-\u001b[39m\u001b[38;5;241m1\u001b[39m] \u001b[38;5;241m=\u001b[39m xc\n",
      "File \u001b[0;32m/opt/conda/lib/python3.9/site-packages/scipy/optimize/optimize.py:464\u001b[0m, in \u001b[0;36m_wrap_function.<locals>.function_wrapper\u001b[0;34m(x, *wrapper_args)\u001b[0m\n\u001b[1;32m    462\u001b[0m \u001b[38;5;28;01mdef\u001b[39;00m \u001b[38;5;21mfunction_wrapper\u001b[39m(x, \u001b[38;5;241m*\u001b[39mwrapper_args):\n\u001b[1;32m    463\u001b[0m     ncalls[\u001b[38;5;241m0\u001b[39m] \u001b[38;5;241m+\u001b[39m\u001b[38;5;241m=\u001b[39m \u001b[38;5;241m1\u001b[39m\n\u001b[0;32m--> 464\u001b[0m     \u001b[38;5;28;01mreturn\u001b[39;00m \u001b[43mfunction\u001b[49m\u001b[43m(\u001b[49m\u001b[43mnp\u001b[49m\u001b[38;5;241;43m.\u001b[39;49m\u001b[43mcopy\u001b[49m\u001b[43m(\u001b[49m\u001b[43mx\u001b[49m\u001b[43m)\u001b[49m\u001b[43m,\u001b[49m\u001b[43m \u001b[49m\u001b[38;5;241;43m*\u001b[39;49m\u001b[43m(\u001b[49m\u001b[43mwrapper_args\u001b[49m\u001b[43m \u001b[49m\u001b[38;5;241;43m+\u001b[39;49m\u001b[43m \u001b[49m\u001b[43margs\u001b[49m\u001b[43m)\u001b[49m\u001b[43m)\u001b[49m\n",
      "Input \u001b[0;32mIn [2]\u001b[0m, in \u001b[0;36mblackbox_func\u001b[0;34m(p)\u001b[0m\n\u001b[1;32m     12\u001b[0m pos \u001b[38;5;241m=\u001b[39m dims\u001b[38;5;241m.\u001b[39mindex(ndim)\n\u001b[1;32m     13\u001b[0m curD \u001b[38;5;241m=\u001b[39m T1_D[\u001b[38;5;241m10000\u001b[39m \u001b[38;5;241m*\u001b[39m pos:\u001b[38;5;241m10000\u001b[39m \u001b[38;5;241m*\u001b[39m (pos \u001b[38;5;241m+\u001b[39m \u001b[38;5;241m1\u001b[39m), :ndim]\n\u001b[0;32m---> 14\u001b[0m \u001b[38;5;28;01mreturn\u001b[39;00m \u001b[38;5;241m-\u001b[39m\u001b[43mssp\u001b[49m\u001b[38;5;241;43m.\u001b[39;49m\u001b[43mlogsumexp\u001b[49m\u001b[43m(\u001b[49m\u001b[43mnp\u001b[49m\u001b[38;5;241;43m.\u001b[39;49m\u001b[43msum\u001b[49m\u001b[43m(\u001b[49m\u001b[38;5;241;43m-\u001b[39;49m\u001b[38;5;241;43m0.5\u001b[39;49m\u001b[43m \u001b[49m\u001b[38;5;241;43m*\u001b[39;49m\u001b[43m \u001b[49m\u001b[43m(\u001b[49m\u001b[43m(\u001b[49m\u001b[43mp\u001b[49m\u001b[43m[\u001b[49m\u001b[38;5;28;43;01mNone\u001b[39;49;00m\u001b[43m,\u001b[49m\u001b[43m \u001b[49m\u001b[43m:\u001b[49m\u001b[43m]\u001b[49m\u001b[43m \u001b[49m\u001b[38;5;241;43m-\u001b[39;49m\u001b[43m \u001b[49m\u001b[43mcurD\u001b[49m\u001b[43m)\u001b[49m\u001b[43m \u001b[49m\u001b[38;5;241;43m/\u001b[39;49m\u001b[43m \u001b[49m\u001b[38;5;241;43m.3\u001b[39;49m\u001b[43m)\u001b[49m\u001b[38;5;241;43m*\u001b[39;49m\u001b[38;5;241;43m*\u001b[39;49m\u001b[38;5;241;43m2\u001b[39;49m\u001b[43m,\u001b[49m\u001b[43m \u001b[49m\u001b[43maxis\u001b[49m\u001b[38;5;241;43m=\u001b[39;49m\u001b[38;5;241;43m1\u001b[39;49m\u001b[43m)\u001b[49m\u001b[43m)\u001b[49m\n",
      "File \u001b[0;32m/opt/conda/lib/python3.9/site-packages/scipy/special/_logsumexp.py:110\u001b[0m, in \u001b[0;36mlogsumexp\u001b[0;34m(a, axis, b, keepdims, return_sign)\u001b[0m\n\u001b[1;32m    108\u001b[0m     tmp \u001b[38;5;241m=\u001b[39m b \u001b[38;5;241m*\u001b[39m np\u001b[38;5;241m.\u001b[39mexp(a \u001b[38;5;241m-\u001b[39m a_max)\n\u001b[1;32m    109\u001b[0m \u001b[38;5;28;01melse\u001b[39;00m:\n\u001b[0;32m--> 110\u001b[0m     tmp \u001b[38;5;241m=\u001b[39m \u001b[43mnp\u001b[49m\u001b[38;5;241;43m.\u001b[39;49m\u001b[43mexp\u001b[49m\u001b[43m(\u001b[49m\u001b[43ma\u001b[49m\u001b[43m \u001b[49m\u001b[38;5;241;43m-\u001b[39;49m\u001b[43m \u001b[49m\u001b[43ma_max\u001b[49m\u001b[43m)\u001b[49m\n\u001b[1;32m    112\u001b[0m \u001b[38;5;66;03m# suppress warnings about log of zero\u001b[39;00m\n\u001b[1;32m    113\u001b[0m \u001b[38;5;28;01mwith\u001b[39;00m np\u001b[38;5;241m.\u001b[39merrstate(divide\u001b[38;5;241m=\u001b[39m\u001b[38;5;124m'\u001b[39m\u001b[38;5;124mignore\u001b[39m\u001b[38;5;124m'\u001b[39m):\n",
      "\u001b[0;31mKeyboardInterrupt\u001b[0m: "
     ]
    }
   ],
   "source": [
    "my_minima = find_nminima()\n",
    "assert len(my_minima) == 5\n",
    "assert (my_minima[0]) == 4\n"
   ]
  },
  {
   "cell_type": "markdown",
   "id": "1f9c9452",
   "metadata": {
    "deletable": false,
    "editable": false,
    "nbgrader": {
     "cell_type": "markdown",
     "checksum": "8cb8104f89acfc8d86a8033274b0d6f5",
     "grade": false,
     "grade_id": "cell-9ffb52dbaa1b00f3",
     "locked": true,
     "schema_version": 3,
     "solution": false,
     "task": false
    }
   },
   "source": [
    "# Task 2 (20 pts)\n",
    "\n",
    "Generate random numbers from a probability distribution that looks like two triangles. \n",
    "The PDF f(x) is the following. Use the inverse CDF sampling method.\n",
    "* f(x) = 0 when x<0\n",
    "* f(x)= x/2 when 0<x<=1\n",
    "* f(x)= 1-x/2 when 1<x<=2\n",
    "* f(x)= 0 when 2<x<=3\n",
    "* f(x)= (x-3)/2 when 3<x<4\n",
    "* f(x)= (5-x)/2 when 4<x<5\n",
    "* f(x)= 0 when x>=5\n"
   ]
  },
  {
   "cell_type": "code",
   "execution_count": null,
   "id": "8682826c",
   "metadata": {},
   "outputs": [],
   "source": [
    "def func_pdf(x):\n",
    "    \n",
    "    # PDF of the function we want to simulate\n",
    "    # to see shape\n",
    "    \n",
    "    y = x*0\n",
    "    y[x < 0] = 0.    \n",
    "    y[(x>0) & (x<=1)] = 0.5*x[(x>0) & (x<=1)]\n",
    "    y[(x > 1) & (x<=2)] = 1 - 0.5*x[(x > 1) & (x<=2)]\n",
    "    y[(x > 2) & (x <= 3)] = 0\n",
    "    y[(x > 3) & (x <= 4)] = 0.5*(x[(x > 3) & (x < 4)] - 3)\n",
    "    y[(x > 4) & (x < 5)] = 0.5*(5 - x[(x > 4) & (x < 5)])\n",
    "    y[x >= 5] = 0. \n",
    "    \n",
    "    return y"
   ]
  },
  {
   "cell_type": "code",
   "execution_count": null,
   "id": "57c11f34",
   "metadata": {},
   "outputs": [],
   "source": [
    "xgrid = np.linspace(-0.01, 5.01, 1000)\n",
    "plt.plot(xgrid,func_pdf(xgrid))"
   ]
  },
  {
   "cell_type": "code",
   "execution_count": null,
   "id": "c8aa1cca",
   "metadata": {
    "deletable": false,
    "nbgrader": {
     "cell_type": "code",
     "checksum": "1183d1c0deba4ac7c7d8d2e1d87279aa",
     "grade": true,
     "grade_id": "cell-15da3ad7914fbcff",
     "locked": false,
     "points": 0,
     "schema_version": 3,
     "solution": true,
     "task": false
    }
   },
   "outputs": [],
   "source": [
    "def generate_triangles(N):\n",
    "    \n",
    "    \"\"\" \n",
    "    This function returns a numpy array with the length N with \n",
    "    random numbers following the distribution specified\n",
    "    \"\"\"\n",
    "    \n",
    "    \n",
    "    ys = np.random.uniform(size=N)\n",
    "    xs = ys * 0.\n",
    "    \n",
    "    # inverse of the CDF calculated analytically \n",
    "    \n",
    "    xs[(ys > 0) & (ys <= 0.25)] = 2*np.sqrt(ys[(ys > 0) & (ys <= 0.25)])\n",
    "    \n",
    "    xs[(ys > 0.25) & (ys <= 0.5)] = 2 - np.sqrt(2 - 4*ys[(ys > 0.25) & (ys <= 0.5)])\n",
    "    \n",
    "    xs[(ys > 0.5) & (ys <= 0.75)] = 3 + np.sqrt(4*ys[(ys > 0.5) & (ys <= 0.75)] - 2)    \n",
    "    \n",
    "    xs[(ys > 0.75) & (ys < 1)] = 5 - 2*np.sqrt(1-ys[(ys > 0.75) & (ys <= 1)])\n",
    "    \n",
    "                \n",
    "    return xs\n"
   ]
  },
  {
   "cell_type": "code",
   "execution_count": null,
   "id": "adb031e5",
   "metadata": {
    "deletable": false,
    "editable": false,
    "nbgrader": {
     "cell_type": "code",
     "checksum": "28610a70220182f35fa7129fb5a8cac3",
     "grade": true,
     "grade_id": "cell-1c23cb379bb25164",
     "locked": true,
     "points": 0,
     "schema_version": 3,
     "solution": false,
     "task": false
    }
   },
   "outputs": [],
   "source": [
    "# The code will be tested by this \n",
    "# the distribution of points should look like two triangles\n",
    "plt.hist(generate_triangles(100000), bins=200);"
   ]
  },
  {
   "cell_type": "markdown",
   "id": "61fa5064",
   "metadata": {
    "deletable": false,
    "editable": false,
    "nbgrader": {
     "cell_type": "markdown",
     "checksum": "d09045a90e5ffec3d21146daa84f495d",
     "grade": false,
     "grade_id": "cell-08472b87802d9f84",
     "locked": true,
     "schema_version": 3,
     "solution": false,
     "task": false
    }
   },
   "source": [
    "# Task 3 (20 pts)\n",
    "\n",
    "The motion of bodies in the Solar system can be described by the Kepler equation \n",
    "$$2 \\pi t/T = E - e \\sin(E)$$\n",
    "where e is orbit eccentricity, t is the time of observation, T is the orbital period. And E is the so-called eccentric anomaly. \n",
    "If you know the eccentric anomaly E (by solving numerically the previous equation) then the position of the body in the plane of the solar system can be described by \n",
    "$$x= a  (\\cos E -e) $$\n",
    "$$y= b \\sin E $$\n",
    "where a, b are the semi-major axis and semi-minor axis respectively.\n",
    "\n",
    "Your task is to write the function that determines the uncertainty on the position x given the time of observation (t), ecentricity (e), period (T), semi-major axis (a) and their uncertainties.\n",
    "You can assume that the eccentric anomaly E will be always between -1000 and 1000.\n",
    "We will verify that the errors are accurate to within 10%"
   ]
  },
  {
   "cell_type": "code",
   "execution_count": null,
   "id": "2e263958",
   "metadata": {},
   "outputs": [],
   "source": [
    "import scipy.optimize as opt"
   ]
  },
  {
   "cell_type": "code",
   "execution_count": null,
   "id": "3fe24d2a",
   "metadata": {},
   "outputs": [],
   "source": [
    "N = 1000\n",
    "t = 1\n",
    "err_t = 1e-5\n",
    "t_sam = np.random.normal(t, err_t, size = N)"
   ]
  },
  {
   "cell_type": "code",
   "execution_count": null,
   "id": "944a72e0",
   "metadata": {
    "deletable": false,
    "nbgrader": {
     "cell_type": "code",
     "checksum": "5b7f9026bce3db3531aeab832b1d0196",
     "grade": true,
     "grade_id": "cell-409d2d8c0ae7f7cf",
     "locked": false,
     "points": 0,
     "schema_version": 3,
     "solution": true,
     "task": false
    }
   },
   "outputs": [],
   "source": [
    "def kepler_uncert(t=None, T=None, e=None, a=None, err_t=None, err_T=None, err_e=None, err_a=None):\n",
    "    \n",
    "    \"\"\" \n",
    "    Returns the x coordinate of the position of a body in the plane of the solar system\n",
    "    with a motion described by Kepler equation\n",
    "    \"\"\"\n",
    "    \n",
    "    \n",
    "    # return the value of the uncertainty on the x position of the solar system body\n",
    "    \n",
    "    # number of points for sampled parameters\n",
    "    N = 100000\n",
    "    \n",
    "    # samples of the variables taking into account the uncertainties (following normal distribution)\n",
    "    t_sam = np.random.normal(t, err_t, size = N)\n",
    "    T_sam = np.random.normal(T, err_T, size = N)\n",
    "    e_sam = np.random.normal(e, err_e, size = N)\n",
    "    a_sam = np.random.normal(a, err_a, size = N)\n",
    "    \n",
    "    # numpy array that will store the values of E calculated\n",
    "    E_cal = np.zeros([N])\n",
    "    \n",
    "    \n",
    "    # Kepler equation equated to zero \n",
    "    def E_root (E, t, T, e):\n",
    "\n",
    "        return E - e*np.sin(E) - 2*np.pi*t/T\n",
    "\n",
    "    \n",
    "    for i in range(N):\n",
    "        \n",
    "        # roots of Kepler equation for E for each of the samples \n",
    "        # range of E [-1000, 1000]\n",
    "        E = opt.brentq(E_root, -1000, 1000, args = (t_sam[i], T_sam[i], e_sam[i]))\n",
    "        \n",
    "        # storing roots of energy into array \n",
    "        E_cal[i] = E\n",
    "    \n",
    "    # position of the body in the plane of the solar system (x coordinate)\n",
    "    # obtaining N values of x\n",
    "    x = a_sam * ( np.cos ( E_cal) - e_sam)\n",
    "\n",
    "    # error on the x value obtained assuming normal distribution\n",
    "    return x.std()\n",
    "    \n",
    "    "
   ]
  },
  {
   "cell_type": "code",
   "execution_count": null,
   "id": "ef54563e",
   "metadata": {},
   "outputs": [],
   "source": [
    "print(kepler_uncert(t=1, T=2, e=.5, a=3, err_t=1e-5, err_T=1e-4, err_e=1e-3, err_a=0.01))\n",
    "# This value should be close to 0.015\n",
    "\n",
    "print(kepler_uncert(t=3, T=4, e=.4, a=6, err_t=1e-4, err_T=1e-3, err_e=1e-2, err_a=0.02))\n",
    "# This should be close to 0.106\n",
    "\n"
   ]
  },
  {
   "cell_type": "code",
   "execution_count": null,
   "id": "660068d5",
   "metadata": {
    "deletable": false,
    "editable": false,
    "nbgrader": {
     "cell_type": "code",
     "checksum": "26237775580e32f7dcd8d0fcb74c39e6",
     "grade": true,
     "grade_id": "cell-b374622347044204",
     "locked": true,
     "points": 0,
     "schema_version": 3,
     "solution": false,
     "task": false
    }
   },
   "outputs": [],
   "source": [
    "print(kepler_uncert(t=1, T=2, e=.5, a=3, err_t=1e-5, err_T=1e-4, err_e=1e-1, err_a=0.01))\n",
    "# This value should be close to 0.015\n",
    "\n",
    "print(kepler_uncert(t=3, T=4, e=.4, a=6, err_t=1e-4, err_T=1e-3, err_e=1e-2, err_a=0.02))\n",
    "# This should be close to 0.106\n"
   ]
  },
  {
   "cell_type": "markdown",
   "id": "3dbd1541",
   "metadata": {
    "deletable": false,
    "editable": false,
    "nbgrader": {
     "cell_type": "markdown",
     "checksum": "4de329d071eec40fe89a1f2be3723606",
     "grade": false,
     "grade_id": "cell-87bfc105ba9092d6",
     "locked": true,
     "schema_version": 3,
     "solution": false,
     "task": false
    }
   },
   "source": [
    "# Task 4 (20 pts)\n",
    "\n",
    "# Fitting a periodic model to the data. \n",
    "\n",
    "In the input data ch2_task4.txt. we have repeated measurements from the instrument. \n",
    "The file has 3 columns. One is the time of observation, the second one is the measurement, and the third one is the uncertainty of the measurement. \n",
    "We have reasons to believe that the measurement periodically change with time, so we want to fit the dataset provided by a periodic model \n",
    "$$M(x) = A \\sin(2\\pi x/T) + B \\cos(2\\pi x/T) $$\n",
    "in order to determine the period T from the data. A,B,T are model parameters\n",
    "\n",
    "Assuming that we know that the period should be between 0.5 and 5, determine the best period describing the data with the accuracy of better than 0.1.\n",
    "\n",
    "Your function needs to return the tuple with the best period and bestmodel values\n",
    "\n",
    "Hint: Use linear regression to fit the periodic models for a grid of periods. Select the period providing the best fit."
   ]
  },
  {
   "cell_type": "code",
   "execution_count": null,
   "id": "5f86208c",
   "metadata": {
    "deletable": false,
    "nbgrader": {
     "cell_type": "code",
     "checksum": "67ad97809be1a2577a1b4f81b72ca740",
     "grade": true,
     "grade_id": "cell-37dad26738d28bfe",
     "locked": false,
     "points": 0,
     "schema_version": 3,
     "solution": true,
     "task": false
    }
   },
   "outputs": [],
   "source": [
    "T4_DATA = np.loadtxt('ch2_task4.txt')\n",
    "\n",
    "plt.errorbar(T4_DATA[0], T4_DATA[1], T4_DATA[2], fmt='.')\n",
    "\n",
    "def findper():\n",
    "    \n",
    "    \"\"\" \n",
    "    This function returns tuple with best period and bestmodel values \n",
    "    \"\"\"\n",
    "    \n",
    "    \n",
    "    # data\n",
    "    X = T4_DATA[0]\n",
    "    Y = T4_DATA[1]\n",
    "    E = T4_DATA[2]\n",
    "    \n",
    "    # length of data\n",
    "    N = len(X)\n",
    "    \n",
    "    # points taking into account accuracy of better 0.1\n",
    "    points = 1000\n",
    "    \n",
    "    # grid of different values of T to try (within range [0.5,5] and respecting accuracy)\n",
    "    grid_T = np.linspace(0.5, 5, points)\n",
    "    \n",
    "    # A matrix for parameters\n",
    "    A = np.zeros((N, 2))\n",
    "    \n",
    "    # array with optimize values\n",
    "    opt_val = np.zeros((points,4))\n",
    "    \n",
    "    \n",
    "    for i in range(points):\n",
    "\n",
    "        A[:,0] = np.sin(2*np.pi*X/grid_T[i]) / E\n",
    "        A[:,1] = np.cos(2*np.pi*X/grid_T[i]) / E\n",
    "        \n",
    "        # optimized parameters and chisq depending on the T used\n",
    "        res = scipy.linalg.lstsq(A, Y / E)\n",
    "        param = res[0]\n",
    "        chisq = res[1]\n",
    "          \n",
    "        opt_val[i,0] = grid_T[i]\n",
    "        opt_val[i,1] = param[0]\n",
    "        opt_val[i,2] = param[1]\n",
    "        opt_val[i,3] = chisq\n",
    "       \n",
    "    # ind to sort out optimized parameters with respect to the minimum value of chisq\n",
    "    ind = np.argsort(opt_val[:,3])\n",
    "    T_chisq_sorted = opt_val[ind,3]\n",
    "    \n",
    "    A_sorted = opt_val[ind,1]\n",
    "    best_A = A_sorted[0]\n",
    "    \n",
    "    B_sorted = opt_val[ind,2]\n",
    "    best_B = B_sorted[0]\n",
    "    \n",
    "    T_sorted = opt_val[ind,0]\n",
    "    best_T = T_sorted[0]\n",
    "    \n",
    "    best_mod = best_A*np.sin(2*np.pi*X/best_T)   +    best_B*np.cos(2*np.pi*X/best_T)\n",
    "    \n",
    "    \n",
    "    return [best_T, best_mod]\n",
    "    \n",
    "        \n"
   ]
  },
  {
   "cell_type": "code",
   "execution_count": null,
   "id": "4ed2aa2f",
   "metadata": {
    "deletable": false,
    "editable": false,
    "nbgrader": {
     "cell_type": "code",
     "checksum": "b60b1e6d534db8162a7fa5bb8475a235",
     "grade": true,
     "grade_id": "cell-7aca6a3c20334962",
     "locked": true,
     "points": 0,
     "schema_version": 3,
     "solution": false,
     "task": false
    }
   },
   "outputs": [],
   "source": [
    "# Your code will be tested with this \n",
    "plt.errorbar(T4_DATA[0], T4_DATA[1], T4_DATA[2], fmt='.')\n",
    "bestp, bestmod = findper()\n",
    "print('BEST PERIOD', bestp)\n",
    "plt.plot(np.sort(T4_DATA[0]), bestmod[np.argsort(T4_DATA[0])])\n"
   ]
  },
  {
   "cell_type": "markdown",
   "id": "245fc5b8",
   "metadata": {
    "deletable": false,
    "editable": false,
    "nbgrader": {
     "cell_type": "markdown",
     "checksum": "7921b52cd562246fb7b44a5bd078d3cf",
     "grade": false,
     "grade_id": "cell-09a8097b0427727e",
     "locked": true,
     "schema_version": 3,
     "solution": false,
     "task": false
    }
   },
   "source": [
    "# Task 5 (20 pts)\n",
    "\n",
    "You are given a dataset from the particle physics experiment. \n",
    "In that experiment the number of particles are recorded in intervals of Energy.\n",
    "The dataset contains the array of those numbers and the center Energy of each bin/interval. \n",
    "We believe that the average number of particles in each bin could be described by  this model \n",
    "$$R(E) = A_1+ A_2 \\exp(A_3  E) + A_4  \\exp\n",
    "\\left( - \\frac{1}{2}\\frac{(E-A_5)^2}{A_6^2} \\right)$$\n",
    "\n",
    "where the first two terms are describing the background and the last term is a contribution from a decaying \n",
    "particle with the mean energy A5. This contribution creates a peak in the energy distribution. Your task is to measure A5.\n",
    "\n",
    "In the dataset you can assume that the number of particles in each bin is described by Poisson distribution with the rate described by the equantion above. You can assume that measurement of number of particles in each bin are independent from each other.\n",
    "\n",
    "Write the likelihood function and estimate the energy of the particle $A_5$ using maximum likelihood approach. \n",
    "Overplot your best model on top of the data and make sure it fits well. \n",
    "\n",
    "Determine the uncertainty of your measurement. Your function solve_task5() should return two numbers\n",
    "the estimate of the energy and its uncertainty. (If you don't know how to evaluate uncertainty, you can just return np.nan instead)"
   ]
  },
  {
   "cell_type": "code",
   "execution_count": 8,
   "id": "595ad8ea",
   "metadata": {},
   "outputs": [
    {
     "name": "stdout",
     "output_type": "stream",
     "text": [
      "Requirement already satisfied: numdifftools in /opt/conda/lib/python3.9/site-packages (0.9.40)\n",
      "Requirement already satisfied: algopy>=0.4 in /opt/conda/lib/python3.9/site-packages (from numdifftools) (0.5.7)\n",
      "Requirement already satisfied: statsmodels>=0.6 in /opt/conda/lib/python3.9/site-packages (from numdifftools) (0.13.2)\n",
      "Requirement already satisfied: numpy>=1.9 in /opt/conda/lib/python3.9/site-packages (from numdifftools) (1.21.6)\n",
      "Requirement already satisfied: scipy>=0.8 in /opt/conda/lib/python3.9/site-packages (from numdifftools) (1.7.3)\n",
      "Requirement already satisfied: packaging>=21.3 in /opt/conda/lib/python3.9/site-packages (from statsmodels>=0.6->numdifftools) (21.3)\n",
      "Requirement already satisfied: pandas>=0.25 in /opt/conda/lib/python3.9/site-packages (from statsmodels>=0.6->numdifftools) (1.4.2)\n",
      "Requirement already satisfied: patsy>=0.5.2 in /opt/conda/lib/python3.9/site-packages (from statsmodels>=0.6->numdifftools) (0.5.2)\n",
      "Requirement already satisfied: pyparsing!=3.0.5,>=2.0.2 in /opt/conda/lib/python3.9/site-packages (from packaging>=21.3->statsmodels>=0.6->numdifftools) (3.0.8)\n",
      "Requirement already satisfied: python-dateutil>=2.8.1 in /opt/conda/lib/python3.9/site-packages (from pandas>=0.25->statsmodels>=0.6->numdifftools) (2.8.2)\n",
      "Requirement already satisfied: pytz>=2020.1 in /opt/conda/lib/python3.9/site-packages (from pandas>=0.25->statsmodels>=0.6->numdifftools) (2022.1)\n",
      "Requirement already satisfied: six in /opt/conda/lib/python3.9/site-packages (from patsy>=0.5.2->statsmodels>=0.6->numdifftools) (1.16.0)\n"
     ]
    }
   ],
   "source": [
    "!pip install numdifftools"
   ]
  },
  {
   "cell_type": "code",
   "execution_count": 9,
   "id": "07c7533d",
   "metadata": {},
   "outputs": [],
   "source": [
    "import numdifftools"
   ]
  },
  {
   "cell_type": "code",
   "execution_count": 10,
   "id": "b030b7c9",
   "metadata": {
    "deletable": false,
    "editable": false,
    "nbgrader": {
     "cell_type": "code",
     "checksum": "4c9bb771b3f2b9f66f0111ef2d83064e",
     "grade": false,
     "grade_id": "cell-96dc53b94f47084b",
     "locked": true,
     "schema_version": 3,
     "solution": false,
     "task": false
    }
   },
   "outputs": [
    {
     "data": {
      "text/plain": [
       "Text(0, 0.5, 'Number of particles')"
      ]
     },
     "execution_count": 10,
     "metadata": {},
     "output_type": "execute_result"
    },
    {
     "data": {
      "image/png": "[encoded data removed]",
      "text/plain": [
       "<Figure size 432x288 with 1 Axes>"
      ]
     },
     "metadata": {
      "needs_background": "light"
     },
     "output_type": "display_data"
    }
   ],
   "source": [
    "T5_DATA = np.loadtxt('ch2_task5.txt', dtype=[('E', np.float64), ('N', int)])\n",
    "T5_DATA['E']\n",
    "T5_DATA['N']\n",
    "plt.plot(T5_DATA['E'], T5_DATA['N'], drawstyle='steps')\n",
    "plt.xlabel('Energy')\n",
    "plt.ylabel('Number of particles')"
   ]
  },
  {
   "cell_type": "code",
   "execution_count": 11,
   "id": "f49ca629",
   "metadata": {
    "deletable": false,
    "nbgrader": {
     "cell_type": "code",
     "checksum": "2eaf4d4a578e86b46390402017f93673",
     "grade": true,
     "grade_id": "cell-98749de728ce3694",
     "locked": false,
     "points": 0,
     "schema_version": 3,
     "solution": true,
     "task": false
    }
   },
   "outputs": [],
   "source": [
    "def solve_task5():\n",
    "    \"\"\"\n",
    "    This function returns the best A5 paramerter and its uncertainty. \n",
    "    It also overplots the best model on top of the data\n",
    "    \"\"\"\n",
    "    \n",
    "    # data\n",
    "    E_data = T5_DATA[\"E\"]\n",
    "    N_data = T5_DATA[\"N\"]\n",
    "    \n",
    "    # likelihood function\n",
    "    def like_fun(p, N_data, E_data):\n",
    "\n",
    "        # parameters\n",
    "        A1, A2, A3, A4, A5, A6 = p\n",
    "        \n",
    "        # probability function\n",
    "        P = scipy.stats.poisson( A1 + A2*np.exp(A3*E_data) + A4*np.exp(-0.5* (E_data - A5)**2/A6**2) )\n",
    "                                \n",
    "        logp = np.log(P.pmf(N_data)).sum()\n",
    "        \n",
    "        # to avoid NaN results\n",
    "        if not np.isfinite(logp): \n",
    "            return 1e10\n",
    "        \n",
    "        return -logp\n",
    "        \n",
    "    # calculates optimized parameters\n",
    "    # initial guess by recognizing that A5 is the mean of the Gaussian and is situated ~70\n",
    "    ret = scipy.optimize.minimize(like_fun, [0.1,0.1,0.1,0.1,70,0.1], args=(N_data, E_data,), method = \"BFGS\")\n",
    "    \n",
    "    # for later plotting\n",
    "    def rate_fun(x, p):\n",
    "        \n",
    "        A1, A2, A3, A4, A5, A6 = p\n",
    "        \n",
    "        return A1 + A2*np.exp(A3*x) + A4*np.exp(-0.5* (x - A5)**2/A6**2)\n",
    "\n",
    "    # plotting data and best fit model\n",
    "    plt.plot(T5_DATA['E'], T5_DATA['N'], drawstyle='steps', label = \"Data\")\n",
    "    plt.xlabel('Energy')\n",
    "    plt.ylabel('Number of particles')\n",
    "    plt.plot(E_data, rate_fun(E_data, ret.x), label = \"Best fit model\")   \n",
    "    plt.legend();\n",
    "    \n",
    "\n",
    "    # calculate uncertainties on optimized parameters using numdifftools\n",
    "    def myfunc(p):\n",
    "        \n",
    "        return like_fun(p, N_data,E_data)\n",
    "\n",
    "\n",
    "    # covariance matrix\n",
    "    cov = numdifftools.Hessian(myfunc)(ret.x)    \n",
    "    # errors from covariance matrix\n",
    "    err = np.sqrt(np.diag(scipy.linalg.inv(cov)))\n",
    "    \n",
    "    \n",
    "    return ret.x[4], err[4] "
   ]
  },
  {
   "cell_type": "code",
   "execution_count": 12,
   "id": "4bce7ce7",
   "metadata": {
    "deletable": false,
    "editable": false,
    "nbgrader": {
     "cell_type": "code",
     "checksum": "d61a3b5287a8fd8280860b2fa43374da",
     "grade": true,
     "grade_id": "cell-ffcc04bd9ef694c7",
     "locked": true,
     "points": 0,
     "schema_version": 3,
     "solution": false,
     "task": false
    }
   },
   "outputs": [
    {
     "data": {
      "image/png": "[encoded data removed]",
      "text/plain": [
       "<Figure size 432x288 with 1 Axes>"
      ]
     },
     "metadata": {
      "needs_background": "light"
     },
     "output_type": "display_data"
    }
   ],
   "source": [
    "bestval, bessterr = solve_task5()\n",
    "\n"
   ]
  },
  {
   "cell_type": "code",
   "execution_count": null,
   "id": "31a5164d",
   "metadata": {},
   "outputs": [],
   "source": []
  }
 ],
 "metadata": {
  "kernelspec": {
   "display_name": "Python 3 (ipykernel)",
   "language": "python",
   "name": "python3"
  },
  "language_info": {
   "codemirror_mode": {
    "name": "ipython",
    "version": 3
   },
   "file_extension": ".py",
   "mimetype": "text/x-python",
   "name": "python",
   "nbconvert_exporter": "python",
   "pygments_lexer": "ipython3",
   "version": "3.9.12"
  }
 },
 "nbformat": 4,
 "nbformat_minor": 5
}

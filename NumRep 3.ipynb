{
 "cells": [
  {
   "cell_type": "markdown",
   "id": "average-yellow",
   "metadata": {
    "deletable": false,
    "editable": false,
    "nbgrader": {
     "cell_type": "markdown",
     "checksum": "3c92013a4ee5f0da23f9967a0a2f1181",
     "grade": false,
     "grade_id": "cell-55bee5a8d4c1beb1",
     "locked": true,
     "schema_version": 3,
     "solution": false,
     "task": false
    }
   },
   "source": [
    "# Checkpoint 3\n",
    "\n",
    "**Due: Friday, 2 December, 2022 at 5:00pm GMT**\n",
    "\n",
    "Total points: 100\n",
    "\n",
    "### Read This First\n",
    "1. Use the constants provided in the cells. Do not use your own constants.\n",
    "\n",
    "2. Wherever you see `raise NotImplementedError()`, remove that line and put your code there.\n",
    "\n",
    "3. Put the code that produces the output for a given task in the cell indicated. You are welcome to add as many cells as you like for imports, function definitions, variables, etc. Do not alter the argument list of functions that are given to you.\n",
    "\n",
    "4. Your notebook must run correctly when executed once from start to finish. Your notebook will be graded based on how it runs, not how it looks when you submit it. To test this, go to the *Kernel* menu and select *Restart & Run All*.\n",
    "\n",
    "5. Once you are happy with it, clear the output by selecting *Restart & Clear Output* from the *Kernel* menu.\n",
    "\n",
    "6. Submit through Noteable."
   ]
  },
  {
   "cell_type": "code",
   "execution_count": null,
   "id": "rocky-dietary",
   "metadata": {},
   "outputs": [],
   "source": [
    "from matplotlib import pyplot as plt\n",
    "%matplotlib inline\n",
    "import numpy as np\n",
    "import time"
   ]
  },
  {
   "cell_type": "code",
   "execution_count": null,
   "id": "restricted-railway",
   "metadata": {},
   "outputs": [],
   "source": [
    "plt.rcParams['figure.figsize'] = (10, 6)\n",
    "plt.rcParams['font.size'] = 14"
   ]
  },
  {
   "cell_type": "markdown",
   "id": "binary-drink",
   "metadata": {
    "deletable": false,
    "editable": false,
    "nbgrader": {
     "cell_type": "markdown",
     "checksum": "45e515044c692dca872fa8c36187221f",
     "grade": false,
     "grade_id": "cell-d180244b9674c6a3",
     "locked": true,
     "schema_version": 3,
     "solution": false,
     "task": false
    }
   },
   "source": [
    "## Problem 1: the flight of batted baseballs (50 pts)\n",
    "\n",
    "Batted baseballs experience enough air resistance to alter their paths from a simple parabolic motion. To properly model the flight of a baseball, we must consider the drag force, which is defined as\n",
    "\n",
    "$\n",
    "\\begin{align}\n",
    "\\large\n",
    "F_{D} = -\\frac{1}{2} C_{D} A \\rho v^{2},\n",
    "\\end{align}\n",
    "$\n",
    "\n",
    "where $C_{D}$ is the drag coefficient, $A$ is the cross-sectional area of the ball, $\\rho$ is the density of air, and $v$ is the velocity of the ball relative to the air. The drag force is oriented opposite to the velocity of the ball.\n",
    "\n",
    "The system of equations describing the motion of an object experiencing the forces of gravity and air resistance is given by\n",
    "\n",
    "$\n",
    "\\begin{align}\n",
    "\\large\n",
    "\\frac{dx}{dt} = v_{x}\n",
    "\\end{align}\n",
    "$\n",
    "\n",
    "$\n",
    "\\begin{align}\n",
    "\\large\n",
    "\\frac{dy}{dt} = v_{y}\n",
    "\\end{align}\n",
    "$\n",
    "\n",
    "$\n",
    "\\begin{align}\n",
    "\\large\n",
    "\\frac{dv_{x}}{dt} = \\frac{F_{D_x}}{m}\n",
    "\\end{align}\n",
    "$\n",
    "\n",
    "$\n",
    "\\begin{align}\n",
    "\\large\n",
    "\\frac{dv_{y}}{dt} = \\frac{F_{D_y}}{m} - g\n",
    "\\end{align}\n",
    "$\n",
    "\n",
    "where $F_{D_x}$ and $F_{D_y}$ are the $x$ and $y$ components of the drag force and $m$ is the mass of the ball.\n",
    "\n",
    "The cell below defines a function describing simple projectile motion without air resistance."
   ]
  },
  {
   "cell_type": "code",
   "execution_count": null,
   "id": "pending-crowd",
   "metadata": {
    "deletable": false,
    "editable": false,
    "nbgrader": {
     "cell_type": "code",
     "checksum": "8f83a2154d3a5c9ed6f7292e6fd0b18f",
     "grade": false,
     "grade_id": "cell-097ec963330345c0",
     "locked": true,
     "schema_version": 3,
     "solution": false,
     "task": false
    }
   },
   "outputs": [],
   "source": [
    "g = 9.80665 # m/s^2\n",
    "def projectile_motion(t, f):\n",
    "    \"\"\"\n",
    "    f0 = x  => dx/dt  = vx\n",
    "    f1 = y  => dy/dt  = vy\n",
    "    f2 = vx => dvx/dt = 0\n",
    "    f3 = vy => dvy/dt = - g\n",
    "    \"\"\"\n",
    "    \n",
    "    vals = np.zeros_like(f)\n",
    "    vals[0] = f[2]\n",
    "    vals[1] = f[3]\n",
    "    vals[2] = 0\n",
    "    vals[3] = - g\n",
    "\n",
    "    return vals"
   ]
  },
  {
   "cell_type": "markdown",
   "id": "built-giving",
   "metadata": {
    "deletable": false,
    "editable": false,
    "nbgrader": {
     "cell_type": "markdown",
     "checksum": "b911d0e803f0c703c9bdc3c1d4719d7f",
     "grade": false,
     "grade_id": "cell-cf575eba7182a408",
     "locked": true,
     "schema_version": 3,
     "solution": false,
     "task": false
    }
   },
   "source": [
    "## Task 1: 20 pts\n",
    "\n",
    "Compute the motion of a batted ball **experiencing air resistance** under the following conditions.\n",
    "\n",
    "1. The initial position of the ball is x = 0 m and y = 1 m (the approximate height of a hittable pitch).\n",
    "2. The initial velocity of the ball is 50 m/s at an angle of 42 degrees with respect to the ground.\n",
    "3. The ball will land in the seating area beyond the field of play. Nearest to the field, the seats are at a height of 3.5 m up from the ground. The ball should be considered to have landed when it reaches this height (3.5 m).\n",
    "\n",
    "To do this you must define a new system of equations describing the motion of the ball under gravity and air resistance. You may start with the `projectile_motion` defined function above if you like. The relevant constants are provided in the cell below. Use these in your calculation.\n",
    "\n",
    "In the cell with `task1`, write a function that returns the time of flight in seconds and the final x displacement of the baseball in meters when it lands in the stands. This function should accept two arguments: the initial speed of the baseball in m/s and the initial angle in degrees. **Do not modify the existing argument list for the `task1` function.** In a subsequent cell, we will call your function with the initial conditions given above. Refer to the testing cell to see how the function will be called.\n",
    "\n",
    "Your answers must be within 0.1 s and 0.1 m of the correct time and displacement, which are not given."
   ]
  },
  {
   "cell_type": "code",
   "execution_count": null,
   "id": "a69f0d37",
   "metadata": {},
   "outputs": [],
   "source": [
    "from scipy.integrate import solve_ivp"
   ]
  },
  {
   "cell_type": "code",
   "execution_count": null,
   "id": "chief-institute",
   "metadata": {
    "deletable": false,
    "editable": false,
    "nbgrader": {
     "cell_type": "code",
     "checksum": "2809c93b532a758df58eeba9d7301b96",
     "grade": false,
     "grade_id": "cell-dc54e08cd8846550",
     "locked": true,
     "schema_version": 3,
     "solution": false,
     "task": false
    }
   },
   "outputs": [],
   "source": [
    "# baseballs\n",
    "m = 0.145 # mass in kg\n",
    "c = 23.2  # circumference in cm\n",
    "r = c / 2 / np.pi\n",
    "A = np.pi * (r)**2 / 10000 # m^2\n",
    "Cd = 0.34\n",
    "\n",
    "# Earth-related constants\n",
    "rhoE = 1.18 # air density at sea level kg/m^3\n",
    "g = 9.80665 # m/s^2"
   ]
  },
  {
   "cell_type": "code",
   "execution_count": null,
   "id": "alleged-homeless",
   "metadata": {
    "deletable": false,
    "nbgrader": {
     "cell_type": "code",
     "checksum": "d8b1809c61349a05fbf808ab09363595",
     "grade": false,
     "grade_id": "cell-4d9a131a9715305b",
     "locked": false,
     "schema_version": 3,
     "solution": true,
     "task": false
    }
   },
   "outputs": [],
   "source": [
    "def task1(v0, theta):\n",
    "    \n",
    "    # define this constant to use for the drag force\n",
    "    w = 0.5 * Cd * rhoE * A\n",
    "\n",
    "    # Initial launch angle (convert to radians)\n",
    "    theta0 = np.radians(theta)\n",
    "    \n",
    "    #function describing simple projectile motion with air resistance\n",
    "    def proj_mot(t, f):\n",
    "        \n",
    "        \"\"\"\n",
    "        f[0] = x  => vals[0] = dx/dt  = vx\n",
    "        f[1] = vx  => vals[1] = dvx/dt = Fdx/m    \n",
    "        f[2] = y => vals[2] = dy/dt = vy\n",
    "        f[3] = vy => vals[3] = dvy/dt = Fdy/m - g\n",
    "        \"\"\"\n",
    "        vals = np.zeros_like(f)\n",
    "        \n",
    "        vals[0] = f[1]\n",
    "        vals[2] = f[3]\n",
    "\n",
    "        speed = np.hypot(vals[0], vals[2])\n",
    "        \n",
    "        vals[1] = -w/m * speed * f[1]\n",
    "        vals[3] = -w/m * speed * f[3] - g\n",
    "        \n",
    "        return vals\n",
    "\n",
    "\n",
    "    # initial conditions x0, v0x, y0, v0y\n",
    "    ini0 = 0, v0 * np.cos(theta0), 1, v0 * np.sin(theta0)\n",
    "    # Integration limits (integrate until tf unless the seating area is reached before)\n",
    "    t0, tf = 0, 20\n",
    "\n",
    "    \n",
    "    def reach_seats(t, f):\n",
    "    # We've hit the seats if they coordinate is 3.5 meters\n",
    "        return f[2] - 3.5\n",
    "    # Stop the integration when we hit the seats (target).\n",
    "    reach_seats.terminal = True\n",
    "    # The ball has to be moving downwards - to not stop the integration before we reach the top of the parabola \n",
    "    reach_seats.direction = -1\n",
    "\n",
    "\n",
    "    solution = solve_ivp(proj_mot, (t0, tf), ini0, dense_output=True,events=(reach_seats))\n",
    "\n",
    "    # time (points) from 0 until reaching the seats\n",
    "    t = np.linspace(0, solution.t_events[0][0], 100)\n",
    "\n",
    "    # solution for x and y coordinates (trajectory)\n",
    "    sol = solution.sol(t)\n",
    "    x, y = sol[0], sol[2]\n",
    "\n",
    "    # time of flight until reaching seats\n",
    "    tflight = solution.t_events[0][0]\n",
    "    # total x-distance until reaching seats\n",
    "    x_distance = x[-1]\n",
    "    \n",
    "    return tflight, x_distance"
   ]
  },
  {
   "cell_type": "code",
   "execution_count": null,
   "id": "desirable-artist",
   "metadata": {
    "deletable": false,
    "editable": false,
    "nbgrader": {
     "cell_type": "code",
     "checksum": "626228006a84572e1ea7bb6b16a26797",
     "grade": true,
     "grade_id": "cell-91859c9eb84316d5",
     "locked": true,
     "points": 0,
     "schema_version": 3,
     "solution": false,
     "task": false
    }
   },
   "outputs": [],
   "source": [
    "vi = 50 # m/s\n",
    "theta = 42 # degrees\n",
    "\n",
    "tfinal1, xfinal1 = task1(vi, theta)\n",
    "print (f\"Flight time: {tfinal1} s.\")\n",
    "print (f\"Final x displacement: {xfinal1} m.\")\n",
    "\n",
    "# We will test against the correct answer.\n"
   ]
  },
  {
   "cell_type": "markdown",
   "id": "alternative-trinidad",
   "metadata": {
    "deletable": false,
    "editable": false,
    "nbgrader": {
     "cell_type": "markdown",
     "checksum": "b95dd544c5df633dbb1206885e72f1bb",
     "grade": false,
     "grade_id": "cell-f41fefbf1aebdd4e",
     "locked": true,
     "schema_version": 3,
     "solution": false,
     "task": false
    }
   },
   "source": [
    "## Task 2: 20 pts\n",
    "\n",
    "Can you hit a ball that will land in the same spot in half the time?\n",
    "\n",
    "In the cell below with `task2`, write a function that computes the initial speed and angle required for a ball to land in the same spot as in Task 1. This function should accept a single argument, the desired flight time in seconds. **Do not modify the argument list of `task2`.** The function should return the initial speed in m/s and initial angle in degrees. Refer to the testing cell below to see how the function will be called and tested. Your answer should result in a flight time that is half of the flight time from task 1 to within 1%."
   ]
  },
  {
   "cell_type": "code",
   "execution_count": null,
   "id": "29d115d6",
   "metadata": {},
   "outputs": [],
   "source": [
    "from scipy.integrate import solve_bvp"
   ]
  },
  {
   "cell_type": "code",
   "execution_count": null,
   "id": "fae44858",
   "metadata": {
    "deletable": false,
    "nbgrader": {
     "cell_type": "code",
     "checksum": "c6300847247dc7738f6b9292c51c8f36",
     "grade": false,
     "grade_id": "cell-f56452e0b8fce6e0",
     "locked": false,
     "schema_version": 3,
     "solution": true,
     "task": false
    }
   },
   "outputs": [],
   "source": [
    "def task2(tflight):\n",
    "    \n",
    "    # define this constant to use for the drag force\n",
    "    w = 0.5 * Cd * rhoE * A\n",
    "\n",
    "    #functions describing simple projectile motion with air resistance\n",
    "    def derivatives(t, f):\n",
    "    \n",
    "        \"\"\"\n",
    "        f[0] = x  => vals[0] = dx/dt  = vx\n",
    "        f[1] = vx  => vals[1] = dvx/dt = Fdx/m    \n",
    "        f[2] = y => vals[2] = dy/dt = vy\n",
    "        f[3] = vy => vals[3] = dvy/dt = Fdy/m - g\n",
    "        \"\"\"\n",
    "        vals = np.zeros_like(f)\n",
    "        \n",
    "        vals[0] = f[1]\n",
    "        vals[2] = f[3]\n",
    "\n",
    "        speed = np.hypot(vals[0], vals[2])\n",
    "        \n",
    "        vals[1] = -w/m * speed * f[1]\n",
    "        vals[3] = -w/m * speed * f[3] - g\n",
    "        \n",
    "        return np.vstack((vals))\n",
    "\n",
    "    #boundary conditions\n",
    "    # f0 known boundary conditions (initial)\n",
    "    # fb known boundary conditions (final)\n",
    "    def bon_con (f0, fb):\n",
    "        \n",
    "        return np.array([f0[0], fb[0] - xfinal1, f0[2] - 1, fb[2] - 3.5])\n",
    "    \n",
    "    # time grid\n",
    "    t = np.linspace(0, tflight, 100)\n",
    "    \n",
    "    # initial guesses for parameters\n",
    "    f = np.zeros((4, t.size))\n",
    "    f[0] = 0\n",
    "    f[1] = 50\n",
    "    f[2] = 1\n",
    "    f[3] = 10 \n",
    "\n",
    "    sol = solve_bvp(derivatives, bon_con, t, f, verbose=2)\n",
    "\n",
    "    # trajectory solutions in the given time grid\n",
    "    solf = sol.sol(t)\n",
    "    \n",
    "    # initial speed \n",
    "    vi = np.sqrt((solf[1][0])**2 + (solf[3][0])**2)\n",
    "\n",
    "    \n",
    "    # returns intial speed and angle required for a ball to land in the same spot as in Task1\n",
    "    return vi, np.degrees(np.arccos(solf[1][0]/vi))"
   ]
  },
  {
   "cell_type": "code",
   "execution_count": null,
   "id": "paperback-findings",
   "metadata": {
    "deletable": false,
    "editable": false,
    "nbgrader": {
     "cell_type": "code",
     "checksum": "a6319702e3154ef6bfae16bbaf487327",
     "grade": true,
     "grade_id": "cell-eaf5c162f5eaa4a0",
     "locked": true,
     "points": 0,
     "schema_version": 3,
     "solution": false,
     "task": false
    }
   },
   "outputs": [],
   "source": [
    "factor = 2\n",
    "my_vi, my_angle = task2(tfinal1 / factor)\n",
    "print (f\"Initial velocity: {my_vi} m/s, angle: {my_angle} degrees.\")\n",
    "\n",
    "tfinal2, xfinal2 = task1(my_vi, my_angle)\n",
    "print (f\"Flight time: {tfinal2} s.\")\n",
    "print (f\"Final x displacement: {xfinal2} m.\")\n",
    "\n",
    "print (f\"Task1 flight time: {tfinal1} s, task2 flight time: {tfinal2} s, ratio: {tfinal1/tfinal2}\")\n",
    "diff = np.abs(factor - tfinal1/tfinal2)\n",
    "print (f\"{diff=}\")\n",
    "assert diff < 0.01 * factor"
   ]
  },
  {
   "cell_type": "markdown",
   "id": "statistical-hunter",
   "metadata": {
    "deletable": false,
    "editable": false,
    "nbgrader": {
     "cell_type": "markdown",
     "checksum": "221ffdfe3457e8fc2e52d3d6d763cf36",
     "grade": false,
     "grade_id": "cell-e8662a461b93f1e4",
     "locked": true,
     "schema_version": 3,
     "solution": false,
     "task": false
    }
   },
   "source": [
    "## Task 3: 10 pts\n",
    "\n",
    "Make an animation showing the flight of both baseballs (i.e., x displacement on x axis and y displacement on y axis). Time it so the slower ball launches first, followed by the faster ball, and they land at the same time.\n",
    "\n",
    "The axes function `ax.set_aspect('equal')` (for a given axes object called `ax`) can be used to make distances the same on the x and y axes."
   ]
  },
  {
   "cell_type": "code",
   "execution_count": null,
   "id": "8bdbc7d7",
   "metadata": {},
   "outputs": [],
   "source": [
    "# this function is the same as task(1) but it returns the full solution from the integration\n",
    "def task3a(v0, theta):\n",
    "    \n",
    "    \n",
    "    # define this constant to use for the drag force\n",
    "    w = 0.5 * Cd * rhoE * A\n",
    "\n",
    "    # Initial launch angle (convert to radians)\n",
    "    theta0 = np.radians(theta)\n",
    "    \n",
    "    #function describing simple projectile motion with air resistance\n",
    "    def proj_mot(t, f):\n",
    "        \n",
    "        \"\"\"\n",
    "        f[0] = x  => vals[0] = dx/dt  = vx\n",
    "        f[1] = vx  => vals[1] = dvx/dt = Fdx/m    \n",
    "        f[2] = y => vals[2] = dy/dt = vy\n",
    "        f[3] = vy => vals[3] = dvy/dt = Fdy/m - g\n",
    "        \"\"\"\n",
    "        vals = np.zeros_like(f)\n",
    "        \n",
    "        vals[0] = f[1]\n",
    "        vals[2] = f[3]\n",
    "\n",
    "        speed = np.hypot(vals[0], vals[2])\n",
    "        \n",
    "        vals[1] = -w/m * speed * f[1]\n",
    "        vals[3] = -w/m * speed * f[3] - g\n",
    "        \n",
    "        return vals\n",
    "\n",
    "\n",
    "    # initial conditions x0, v0x, y0, v0y\n",
    "    ini0 = 0, v0 * np.cos(theta0), 1, v0 * np.sin(theta0)\n",
    "    # Integration limits (integrate until tf unless the seating area is reached before)\n",
    "    t0, tf = 0, 20\n",
    "\n",
    "    \n",
    "    def reach_seats(t, f):\n",
    "    # We've hit the seats if they coordinate is 3.5 meters\n",
    "        return f[2] - 3.5\n",
    "    # Stop the integration when we hit the seats (target).\n",
    "    reach_seats.terminal = True\n",
    "    # The ball has to be moving downwards - to not stop the integration before we reach the top of the parabola \n",
    "    reach_seats.direction = -1\n",
    "\n",
    "\n",
    "    solution = solve_ivp(proj_mot, (t0, tf), ini0, dense_output=True,events=(reach_seats))\n",
    "\n",
    "    return solution"
   ]
  },
  {
   "cell_type": "code",
   "execution_count": null,
   "id": "a9c44ae6",
   "metadata": {},
   "outputs": [],
   "source": [
    "slow_ball = task3a(vi, theta)  # parameters given in Task1\n",
    "fast_ball = task3a(my_vi, my_angle)   # parameters calculated in Task2"
   ]
  },
  {
   "cell_type": "code",
   "execution_count": null,
   "id": "impressed-driver",
   "metadata": {
    "deletable": false,
    "nbgrader": {
     "cell_type": "code",
     "checksum": "3e1bb085d1f1c806537e403d31032ee2",
     "grade": false,
     "grade_id": "cell-3891e27da0aec973",
     "locked": false,
     "schema_version": 3,
     "solution": true,
     "task": false
    }
   },
   "outputs": [],
   "source": [
    "from matplotlib import animation\n",
    "from IPython.display import HTML"
   ]
  },
  {
   "cell_type": "code",
   "execution_count": null,
   "id": "7b0b19ba",
   "metadata": {},
   "outputs": [],
   "source": [
    "fig = plt.figure()\n",
    "fig.set_dpi(100)\n",
    "fig.set_size_inches(7, 6.5)\n",
    "\n",
    "# axis limits to fit the trajectories\n",
    "ax = plt.axes(xlim=(0, 130), ylim=(0, 45))\n",
    "ax.set_aspect('equal')\n",
    "ax.set_xlabel(\"x_displacement [m]\")\n",
    "ax.set_ylabel(\"y_displacement [m]\")\n",
    "\n",
    "# slow ball\n",
    "patch1 = plt.Circle((5, -5), 1.5, ec = \"blue\", fc='y')\n",
    "# fast ball \n",
    "patch2 = plt.Circle((5, -5), 1.5, ec = \"brown\", fc='green')\n",
    "\n",
    "\n",
    "\n",
    "def init():\n",
    "    patch1.center = (0, 1)\n",
    "    ax.add_patch(patch1)\n",
    "    \n",
    "    patch2.center = (0, 1)\n",
    "    ax.add_patch(patch2)\n",
    "    return patch1, patch2,\n",
    "\n",
    "def animate(i):\n",
    "    \n",
    "    # i is the frame number\n",
    "    x, y = patch1.center\n",
    "\n",
    "    # time grid for ball 1\n",
    "    t1 = np.linspace(0, slow_ball.t_events[0][0], 360)\n",
    "\n",
    "    # slow ball trajectories\n",
    "    x = slow_ball.sol(t1)[0]\n",
    "    y = slow_ball.sol(t1)[2]\n",
    "\n",
    "    patch1.center = (x[i], y[i])\n",
    "    \n",
    "    # fast ball takes half of the time to reach the target\n",
    "    # don't make fast ball ove until half of the frames have already passed\n",
    "    if i > 180:\n",
    "        x2, y2 = patch2.center\n",
    "        # time grid for fast ball\n",
    "        t2 = np.linspace(0, fast_ball.t_events[0][0], 180)\n",
    "        # fast ball trajectory\n",
    "        x2 = fast_ball.sol(t2)[0]\n",
    "        y2 = fast_ball.sol(t2)[2]\n",
    "        patch2.center = (x2[i - 180], y2[i - 180])\n",
    "        \n",
    "    return patch1, patch2,\n",
    "\n",
    "anim = animation.FuncAnimation(fig, animate, \n",
    "                               init_func=init, \n",
    "                               frames=360, \n",
    "                               interval=20,\n",
    "                               blit=True)\n",
    "HTML(anim.to_jshtml())"
   ]
  },
  {
   "cell_type": "markdown",
   "id": "complete-rescue",
   "metadata": {
    "deletable": false,
    "editable": false,
    "nbgrader": {
     "cell_type": "markdown",
     "checksum": "dfc27442d8f0822570961655b3412a57",
     "grade": false,
     "grade_id": "cell-2a3f8f920c23c2c6",
     "locked": true,
     "schema_version": 3,
     "solution": false,
     "task": false
    }
   },
   "source": [
    "## Problem 2: harmonics of the square wave (25 pts)\n",
    "\n",
    "A square wave is composed of a fundamental tone (at wavenumber $\\omega=1$) and a series of harmonics at odd wavenumbers. The amplitudes of the harmonics obey the following relation:\n",
    "\n",
    "$\n",
    "\\begin{align}\n",
    "\\large\n",
    "\\frac{|c_k(\\omega=3,5,7,...)|}{|c_k(\\omega=1)|} \\propto \\omega^{\\alpha},\n",
    "\\end{align}\n",
    "$\n",
    "\n",
    "where $c_k(\\omega)$ are the Fourier coefficients as a function of wavenumber of the square wave and $\\alpha$ is a constant. $c_k(\\omega=1)$ is the Fourier coefficient of the fundamental tone, i.e., at $\\omega=1$.\n",
    "\n",
    "In the cell below, you are given a square wave signal."
   ]
  },
  {
   "cell_type": "code",
   "execution_count": null,
   "id": "fifty-boards",
   "metadata": {
    "deletable": false,
    "editable": false,
    "nbgrader": {
     "cell_type": "code",
     "checksum": "f45e60654d070fd8a081a717f921fdcb",
     "grade": false,
     "grade_id": "cell-127fa47289d2173f",
     "locked": true,
     "schema_version": 3,
     "solution": false,
     "task": false
    }
   },
   "outputs": [],
   "source": [
    "from scipy import signal\n",
    "\n",
    "tsqu = np.linspace(0, 20*np.pi, 1001)\n",
    "ysqu = signal.square(tsqu)\n",
    "\n",
    "plt.plot(tsqu, ysqu)\n",
    "plt.xlabel('t')\n",
    "plt.ylabel('f(t)')\n",
    "plt.title('square wave')\n",
    "plt.show()"
   ]
  },
  {
   "cell_type": "markdown",
   "id": "hundred-ready",
   "metadata": {
    "deletable": false,
    "editable": false,
    "nbgrader": {
     "cell_type": "markdown",
     "checksum": "4852559df4836b09573da3381bf69756",
     "grade": false,
     "grade_id": "cell-dbc691b33b5d2f8e",
     "locked": true,
     "schema_version": 3,
     "solution": false,
     "task": false
    }
   },
   "source": [
    "## Task 1: 20 pts\n",
    "\n",
    "In the cell below, use the square wave signal define above to calculate the value of $\\alpha$ from the previous expression. Do this by taking the FFT of the signal, locating the peaks at the harmonics, and fitting a curve to them. Do this in the cell below. Your code should print out the value of $\\alpha$ and be within 1% of the correct answer.\n",
    "\n",
    "You may find the `scipy.signal.find_peaks` function useful."
   ]
  },
  {
   "cell_type": "code",
   "execution_count": null,
   "id": "8775246f",
   "metadata": {},
   "outputs": [],
   "source": [
    "import scipy"
   ]
  },
  {
   "cell_type": "code",
   "execution_count": null,
   "id": "complex-strength",
   "metadata": {
    "deletable": false,
    "nbgrader": {
     "cell_type": "code",
     "checksum": "00a1a40633dca4b1bf648a510b3c92ce",
     "grade": false,
     "grade_id": "cell-6d4deb3fcbde1fc9",
     "locked": false,
     "schema_version": 3,
     "solution": true,
     "task": false
    }
   },
   "outputs": [],
   "source": [
    "# fft of the signal\n",
    "ck = np.fft.rfft(ysqu)\n",
    "\n",
    "# maximum time \n",
    "max_t = np.max(tsqu)\n",
    "\n",
    "# wavenumbers\n",
    "wn = (2*np.pi/max_t)*np.arange(ck.size)\n",
    "\n",
    "# peaks in ck\n",
    "peaks = scipy.signal.find_peaks(np.abs(ck))[0]\n",
    "\n",
    "# values of ck at peaks\n",
    "vals = np.abs(ck[peaks])\n",
    "\n",
    "\n",
    "# function fit where b is proportionality constant \n",
    "def fun (x, b, alpha):\n",
    "    return b*x**alpha\n",
    "\n",
    "popt, pcov = scipy.optimize.curve_fit(fun, wn[peaks], vals)\n",
    "\n",
    "print(\"Value for alpha = \" + str(popt[1]))\n"
   ]
  },
  {
   "cell_type": "markdown",
   "id": "thorough-penalty",
   "metadata": {
    "deletable": false,
    "editable": false,
    "nbgrader": {
     "cell_type": "markdown",
     "checksum": "44f58543b870e9810f88ff68c32ff2b9",
     "grade": false,
     "grade_id": "cell-e12caceaf25eef79",
     "locked": true,
     "schema_version": 3,
     "solution": false,
     "task": false
    }
   },
   "source": [
    "## Task 2: 5 pts\n",
    "\n",
    "Plot the amplitude spectrum of the square wave signal vs. wavenumber, $\\omega$. This should show the harmonics occuring at odd values of $\\omega$, i.e., 1, 3, 5, 7... Include on the plot the locations of the harmonics, denoted by circles. Plot a curve that fits $\\omega$ and amplitude of the harmonics. Plot this in log-log to better illustrate the relation between $\\omega$ and amplitude. Include all appropriate labels, legends, etc."
   ]
  },
  {
   "cell_type": "code",
   "execution_count": null,
   "id": "pharmaceutical-holly",
   "metadata": {
    "deletable": false,
    "nbgrader": {
     "cell_type": "code",
     "checksum": "8727587b2802c95add92794d1cd1d782",
     "grade": false,
     "grade_id": "cell-9bfa0d0732622f8f",
     "locked": false,
     "schema_version": 3,
     "solution": true,
     "task": false
    }
   },
   "outputs": [],
   "source": [
    "# odd values of wn\n",
    "wn_odd = np.arange(1,np.max(wn),2)\n",
    "\n",
    "x = np.linspace(0.1,50,1000)\n",
    "fig, ax = plt.subplots() \n",
    "ax.loglog(wn, np.abs(ck), label = \"amplitude spectrum\")\n",
    "ax.loglog(x, fun(x, *popt), color = \"deeppink\", label = \"fit\")\n",
    "ax.scatter(wn_odd, fun(wn_odd, *popt) , ec = \"green\", fc = \"None\", label = \"Location of the harmonics\" )\n",
    "\n",
    "ax.set_xlabel(\"Wavenumber (log)\")\n",
    "ax.set_ylabel(\"|ck| (log)\")\n",
    "\n",
    "plt.legend()\n",
    "plt.show()"
   ]
  },
  {
   "cell_type": "markdown",
   "id": "electric-shield",
   "metadata": {
    "deletable": false,
    "editable": false,
    "nbgrader": {
     "cell_type": "markdown",
     "checksum": "6e438cdd127a822c7148b29e64fe6447",
     "grade": false,
     "grade_id": "cell-2690e6cf7311cf4d",
     "locked": true,
     "schema_version": 3,
     "solution": false,
     "task": false
    }
   },
   "source": [
    "## Problem 3: the solar cycle (25 pts)\n",
    "\n",
    "The number of sunspots visible on the Sun is known to have cyclic behavior. The data file, \"sunspots.txt\" (included with the checkpoint), contains counts of the number of sunspots per month since 1749. The data contains two columns:\n",
    "1. the time in years denoting the mid-point of the month\n",
    "2. the number of sunspots observed in that month\n",
    "\n",
    "## Task 1: 10 pts\n",
    "\n",
    "In the cell below, write a code to compute the period of the primary mode of the solar cycle (i.e., the period corresponding to the highest peak in the amplitude spectrum, excluding the peak at $k=0$). Your code should print out the value of the period in years to within 0.2 years of the correct answer (as computed with this method)."
   ]
  },
  {
   "cell_type": "code",
   "execution_count": null,
   "id": "knowing-naples",
   "metadata": {
    "deletable": false,
    "nbgrader": {
     "cell_type": "code",
     "checksum": "90790abbd1843f413ca0e461ed859561",
     "grade": false,
     "grade_id": "cell-d66dd93362a2a6de",
     "locked": false,
     "schema_version": 3,
     "solution": true,
     "task": false
    }
   },
   "outputs": [],
   "source": [
    "# time in years denoting the mid-point of the month \n",
    "year  = np.loadtxt(\"sunspots.txt\")[:,:1]\n",
    "year = year.flatten()\n",
    "\n",
    "# number of sunspots observed in that month \n",
    "sunspots = np.loadtxt(\"sunspots.txt\")[:,1:]\n",
    "sunspots = sunspots.flatten()\n",
    "\n",
    "# maximum year\n",
    "tmax = np.max(year)"
   ]
  },
  {
   "cell_type": "code",
   "execution_count": null,
   "id": "f446d1a8",
   "metadata": {},
   "outputs": [],
   "source": [
    "# fft of the signal\n",
    "ck2 = np.fft.rfft(sunspots)\n",
    "\n",
    "# wavenumbers\n",
    "wn2 = (2*np.pi / tmax)*np.arange(ck2.size)"
   ]
  },
  {
   "cell_type": "code",
   "execution_count": null,
   "id": "4dc3d5e8",
   "metadata": {},
   "outputs": [],
   "source": [
    "plt.plot(wn2, np.abs(ck2)/ck2.size)"
   ]
  },
  {
   "cell_type": "code",
   "execution_count": null,
   "id": "b07f70cc",
   "metadata": {},
   "outputs": [],
   "source": [
    "plt.plot(wn2[5:40], np.abs(ck2[5:40])/ck2.size)"
   ]
  },
  {
   "cell_type": "code",
   "execution_count": null,
   "id": "6191bbf0",
   "metadata": {},
   "outputs": [],
   "source": [
    "# find the position of the peak (given range to ignore the first peak)\n",
    "center = np.abs(ck2[5:40]).argmax()\n",
    "\n",
    "# define the region to filter\n",
    "region = np.abs(wn2 - wn2[center + 5]) > 0.0020\n",
    "cknew = ck2.copy()\n",
    "cknew[region] = 0\n",
    "# get back teh first peak\n",
    "cknew[0] = ck2[0]\n",
    "\n",
    "#filtered signal\n",
    "ynew = np.fft.irfft(cknew)\n",
    "\n",
    "plt.figure()\n",
    "plt.plot(year, sunspots, label=\"original\")\n",
    "plt.plot(year, ynew, label=\"filtered\")\n",
    "plt.xlabel('time [years]')\n",
    "plt.ylabel('sunspots')\n",
    "plt.legend()\n",
    "plt.show()"
   ]
  },
  {
   "cell_type": "code",
   "execution_count": null,
   "id": "d1e6d95f",
   "metadata": {},
   "outputs": [],
   "source": [
    "# peaks in filtered signals\n",
    "newpeaks = scipy.signal.find_peaks(ynew)[0]\n",
    "\n",
    "# corresponding time for those peaks\n",
    "time_peaks = year[newpeaks]\n",
    "\n",
    "period = np.average(np.diff(time_peaks))\n",
    "\n",
    "print(\"Period in years: \" + str(period))\n"
   ]
  },
  {
   "cell_type": "markdown",
   "id": "arctic-mambo",
   "metadata": {
    "deletable": false,
    "editable": false,
    "nbgrader": {
     "cell_type": "markdown",
     "checksum": "1d5832dc53184c0eb02f348a1a86e4a9",
     "grade": false,
     "grade_id": "cell-efa5bbd08c63ad87",
     "locked": true,
     "schema_version": 3,
     "solution": false,
     "task": false
    }
   },
   "source": [
    "## Task 2: 10 pts\n",
    "\n",
    "Using the period calculated previously, predict the time of the next solar maximum (i.e., the next time in the future when the number of sunspots will peak). Do this by creating a filter to include only the 30 closest values on each side of the peak. Create a new signal from the filtered Fourier coefficients and locate the last maximum. Use this to predict the time of the next maximum. Your code should print the month and year of the next maximum. Your answer should be accurate to within 2 months of the correct answer (as computed by this method).\n",
    "\n",
    "Note, this method does not correctly calculate the time of the last peak, so your prediction will differ with the real prediction."
   ]
  },
  {
   "cell_type": "code",
   "execution_count": null,
   "id": "antique-peace",
   "metadata": {
    "deletable": false,
    "nbgrader": {
     "cell_type": "code",
     "checksum": "b8f3fcc9b08f2e40ed1b1e041ac6160c",
     "grade": false,
     "grade_id": "cell-4a4a4e20a74e9a41",
     "locked": false,
     "schema_version": 3,
     "solution": true,
     "task": false
    }
   },
   "outputs": [],
   "source": [
    "# define the region to filter (around the already defined in Task1 center)\n",
    "region2 = np.abs(wn2 - wn2[center + 5]) > 0.106\n",
    "\n",
    "cknew2 = ck2.copy()\n",
    "cknew2[region2] = 0\n",
    "\n",
    "check = len(np.abs(cknew2[cknew2 != 0]))\n",
    "# check that there are 60 values (30 each side)\n",
    "print(check)\n",
    "\n",
    " \n",
    "# get back the first peak \n",
    "cknew2[0] = ck2[0]"
   ]
  },
  {
   "cell_type": "code",
   "execution_count": null,
   "id": "b8ff61e4",
   "metadata": {},
   "outputs": [],
   "source": [
    "# filtered signal\n",
    "ynew2 = np.fft.irfft(cknew2)"
   ]
  },
  {
   "cell_type": "code",
   "execution_count": null,
   "id": "440e9030",
   "metadata": {},
   "outputs": [],
   "source": [
    "# new peaks in filtered signal\n",
    "newpeaks2 = scipy.signal.find_peaks(ynew2)[0]\n",
    "\n",
    "# corresponding time for those peaks\n",
    "time_peaks2 = year[newpeaks2]\n",
    "\n",
    "next_max = time_peaks2[-1] + period\n",
    "print(\"Next Maximum: \" + str(next_max ))\n",
    "print(\"Next Maximum: Mid April 2024\")"
   ]
  },
  {
   "cell_type": "markdown",
   "id": "fresh-european",
   "metadata": {
    "deletable": false,
    "editable": false,
    "nbgrader": {
     "cell_type": "markdown",
     "checksum": "95f8541c36539b253771fdd1f98d3470",
     "grade": false,
     "grade_id": "cell-c25f9505caca80d2",
     "locked": true,
     "schema_version": 3,
     "solution": false,
     "task": false
    }
   },
   "source": [
    "## Task 3: 5 pts\n",
    "\n",
    "Make a plot including the original data of the number of sunspots vs. time, your filtered signal from the previous task, and a vertical line denoting the predicted time of the next maximum. Include all appropriate labels, units, and legends."
   ]
  },
  {
   "cell_type": "code",
   "execution_count": null,
   "id": "corrected-norwegian",
   "metadata": {
    "deletable": false,
    "nbgrader": {
     "cell_type": "code",
     "checksum": "b0134b6cdcc2e1798e04b6b69a4e4372",
     "grade": false,
     "grade_id": "cell-ff6759becda0bb49",
     "locked": false,
     "schema_version": 3,
     "solution": true,
     "task": false
    }
   },
   "outputs": [],
   "source": [
    "plt.figure()\n",
    "plt.plot(year, sunspots, label=\"original\", color = \"yellow\")\n",
    "plt.plot(year, ynew2, label=\"filtered\", color = \"deeppink\")\n",
    "plt.xlabel('time [year]')\n",
    "plt.ylabel('number of sunspots')\n",
    "plt.axvline(x = next_max, color = 'green', label = 'Next maximum')\n",
    "\n",
    "plt.legend()\n",
    "plt.show()"
   ]
  },
  {
   "cell_type": "code",
   "execution_count": null,
   "id": "572f9ded",
   "metadata": {},
   "outputs": [],
   "source": []
  },
  {
   "cell_type": "code",
   "execution_count": null,
   "id": "893aa338",
   "metadata": {},
   "outputs": [],
   "source": []
  }
 ],
 "metadata": {
  "kernelspec": {
   "display_name": "Python 3 (ipykernel)",
   "language": "python",
   "name": "python3"
  },
  "language_info": {
   "codemirror_mode": {
    "name": "ipython",
    "version": 3
   },
   "file_extension": ".py",
   "mimetype": "text/x-python",
   "name": "python",
   "nbconvert_exporter": "python",
   "pygments_lexer": "ipython3",
   "version": "3.9.12"
  }
 },
 "nbformat": 4,
 "nbformat_minor": 5
}

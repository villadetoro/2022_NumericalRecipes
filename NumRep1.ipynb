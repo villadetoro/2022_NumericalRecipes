{
 "cells": [
  {
   "cell_type": "markdown",
   "id": "annoying-brunswick",
   "metadata": {
    "deletable": false,
    "editable": false,
    "nbgrader": {
     "cell_type": "markdown",
     "checksum": "3f2450b679a71955dfd046f29a1a53aa",
     "grade": false,
     "grade_id": "cell-7e6c8bd6940b47c7",
     "locked": true,
     "schema_version": 3,
     "solution": false,
     "task": false
    }
   },
   "source": [
    "# Checkpoint 1\n",
    "\n",
    "**Due: Tuesday, 18 October, 2022 at 11:00am BST**\n",
    "\n",
    "Total points: 100\n",
    "\n",
    "### Read This First\n",
    "1. Use the constants provided in the cells. Do not use your own constants.\n",
    "\n",
    "2. Wherever you see `raise NotImplementedError()`, remove that line and put your code there.\n",
    "\n",
    "3. Put the code that produces the output for a given task in the cell indicated. You are welcome to add as many cells as you like for imports, function definitions, variables, etc.\n",
    "\n",
    "4. Your notebook must run correctly when executed once from start to finish. Your notebook will be graded based on how it runs, not how it looks when you submit it. To test this, go to the *Kernel* menu and select *Restart & Run All*.\n",
    "\n",
    "5. Once you are happy with it, clear the output by selecting *Restart & Clear Output* from the *Kernel* menu.\n",
    "\n",
    "6. Submit through Noteable."
   ]
  },
  {
   "cell_type": "code",
   "execution_count": null,
   "id": "extreme-moses",
   "metadata": {},
   "outputs": [],
   "source": [
    "from matplotlib import pyplot as plt\n",
    "%matplotlib inline\n",
    "import numpy as np\n",
    "import time"
   ]
  },
  {
   "cell_type": "code",
   "execution_count": null,
   "id": "faced-stylus",
   "metadata": {},
   "outputs": [],
   "source": [
    "plt.rcParams['figure.figsize'] = (10, 6)\n",
    "plt.rcParams['font.size'] = 14"
   ]
  },
  {
   "cell_type": "markdown",
   "id": "eb38b78a",
   "metadata": {
    "deletable": false,
    "editable": false,
    "nbgrader": {
     "cell_type": "markdown",
     "checksum": "aeafacb6fc7a78c1c366051af9c5dc23",
     "grade": false,
     "grade_id": "cell-be0f30ea8f875921",
     "locked": true,
     "schema_version": 3,
     "solution": false,
     "task": false
    }
   },
   "source": [
    "# Problem 1 - 20 points\n",
    "\n",
    "## Interpolation\n",
    "You are given an array of x and y measurements that you need to interpolate on new locations.\n",
    "\n",
    "The file *ch1_1_data.txt* is a text file that contains two arrays of Xs and Ys in two rows that need to be interpolated. The file *ch1_1_test.txt* is a text file that contains an array of X values on which you need to evaluate the interpolated function.\n",
    "\n",
    "You will need to do the interpolation by chosing the best interpolation technique among linear interpolation, cubic splines and smoothing splines with different values of smoothing parameters.\n",
    "\n",
    "You need to write the code that\n",
    "\n",
    "* selects the best among different interpolation methods for a provided dataset.\n",
    "* returns the array of the results of evaluating the best interpolation method on the test dataset. Note, the returned array of interpolated Y values should correspond directly to the X values from the test file. That is, the first returned Y value should correspond to the first X value and so on.\n",
    "\n",
    "The resulting array will then be verified to provide a mean square error (MSE) with respect to the true values of **MSE < 0.1**, where\n",
    "\n",
    "$\n",
    "\\large\n",
    "\\begin{align}\n",
    "MSE = \\frac{1}{N} \\sum_{i=1}^{N} (y_{interp, i} - y_{true, i})^2.\n",
    "\\end{align}\n",
    "$"
   ]
  },
  {
   "cell_type": "code",
   "execution_count": null,
   "id": "7560b06f",
   "metadata": {},
   "outputs": [],
   "source": [
    "import scipy.interpolate"
   ]
  },
  {
   "cell_type": "code",
   "execution_count": null,
   "id": "d4cf20f1",
   "metadata": {
    "deletable": false,
    "nbgrader": {
     "cell_type": "code",
     "checksum": "b67df89d1cdf222fc3ad91d82464fd67",
     "grade": false,
     "grade_id": "p1-answer",
     "locked": false,
     "schema_version": 3,
     "solution": true,
     "task": false
    }
   },
   "outputs": [],
   "source": [
    "def solve_task1():\n",
    "    \"\"\"\n",
    "    This function needs select the best interpolation method for provided data  \n",
    "    and return the numpy array of interpolated values at the locations specified in test.txt\n",
    "    \"\"\"\n",
    "    \n",
    "    # Load .txt files into numpy arrays\n",
    "    data = np.loadtxt(\"ch1_1_data.txt\")\n",
    "    x_test = np.loadtxt(\"ch1_1_test.txt\")\n",
    "    \n",
    "    # data rows from the data file\n",
    "    x_data = data[0]    \n",
    "    y_data = data[1]\n",
    "\n",
    "    #sort x_data and y_data\n",
    "    ind = np.argsort(x_data)\n",
    "    # indices to sort the arrays\n",
    "    x_sort = x_data[ind]\n",
    "    y_sort = y_data[ind]\n",
    "    \n",
    "    # sort test data\n",
    "    ind_test = np.argsort(x_test)\n",
    "    x_test_sort = x_test[ind_test]\n",
    "    \n",
    "    \n",
    "    # select the best interpolation method by calculating the MSE\n",
    "    \n",
    "    nsplit = 3 # split the data in 3 chunks \n",
    "    N = len(x_sort)\n",
    "    pos = np.arange(len(x_sort))\n",
    "    \n",
    "    # zero values set for the MSE for each interpolator tested\n",
    "    ret_linear = 0   # linear interpolator\n",
    "    ret_cubic = 0   # cubic splines\n",
    "    ret_smooth_a = 0   # smoothing splines (smoothing parameter = 1.0)  \n",
    "    ret_smooth_b = 0   # smoothing splines (smoothing parameter = .18)   \n",
    "    ret_smooth_c = 0   # smoothing splines (smoothing parameter = .05)   \n",
    "\n",
    "    \n",
    "    # calculate the MSE with the data divided into nsplits for each interpolator \n",
    "    for i in range(nsplit):\n",
    "        testsubset = pos%nsplit ==i \n",
    "        fitsubset = ~testsubset \n",
    "        curx = x_sort[fitsubset]\n",
    "        cury = y_sort[fitsubset]\n",
    "        testx = x_sort[testsubset]\n",
    "        testy = y_sort[testsubset]\n",
    "        \n",
    "        # linear interpolator\n",
    "        int_linear = scipy.interpolate.interp1d(curx, cury, fill_value=\"extrapolate\")\n",
    "        ret_linear = ret_linear + np.mean((int_linear(testx) - testy)**2)\n",
    "        \n",
    "        # cubic splines\n",
    "        int_cubic = scipy.interpolate.CubicSpline(curx, cury)\n",
    "        ret_cubic = ret_cubic + np.mean((int_cubic(testx) - testy)**2)\n",
    "        \n",
    "        # smoothing splines (smoothing parameter = 1.0)  \n",
    "        int_smooth_a = scipy.interpolate.UnivariateSpline(curx, cury, s=1)\n",
    "        ret_smooth_a = ret_smooth_a + np.mean((int_smooth_a(testx) - testy)**2)\n",
    "        \n",
    "        # smoothing splines (smoothing parameter = .18)  \n",
    "        int_smooth_b = scipy.interpolate.UnivariateSpline(curx, cury, s=.18)\n",
    "        ret_smooth_b = ret_smooth_b + np.mean((int_smooth_b(testx) - testy)**2)\n",
    "        \n",
    "        # smoothing splines (smoothing parameter = .05)\n",
    "        int_smooth_c = scipy.interpolate.UnivariateSpline(curx, cury, s=.05)\n",
    "        ret_smooth_c = ret_smooth_c + np.mean((int_smooth_c(testx) - testy)**2)        \n",
    "    \n",
    "    # total MSE for each inteprolator used\n",
    "    ret_linear = ret_linear/nsplit\n",
    "    ret_cubic = ret_cubic/nsplit\n",
    "    ret_smooth_a = ret_smooth_a/nsplit\n",
    "    ret_smooth_b = ret_smooth_b/nsplit\n",
    "    ret_smooth_c = ret_smooth_c/nsplit\n",
    "    \n",
    "    # array with all the MSE values for different interpolator used\n",
    "    ret = np.array([ret_linear, ret_cubic, ret_smooth_a, ret_smooth_b, ret_smooth_c])\n",
    "    # index of the value with a smallest MSE \n",
    "    index = np.argmin(ret)\n",
    "    \n",
    "    # depending on which index had the smallest MSE that is going to be the interpolator method used\n",
    "    \n",
    "    # linear interpolation \n",
    "    if index == 0:\n",
    "        inte = scipy.interpolate.interp1d(x_sort, y_sort, fill_value = \"extrapolate\")\n",
    "        y_int_or = inte(x_test_sort)\n",
    "        \n",
    "    # cubic interpolation \n",
    "    if index == 1:\n",
    "        inte = scipy.interpolate.CubicSpline(x_sort, y_sort)        \n",
    "        y_int_or = inte(x_test_sort)        \n",
    "        \n",
    "    # smoothing splines, parameter s=1\n",
    "    if index == 2:\n",
    "        inte = scipy.interpolate.UnivariateSpline(x_sort, y_sort, s=1)\n",
    "        y_int_or = inte(x_test_sort)\n",
    "        \n",
    "    # smoothing splines, parameter s=.18\n",
    "    if index == 3:\n",
    "        inte = scipy.interpolate.UnivariateSpline(x_sort, y_sort, s=.18)\n",
    "        y_int_or = inte(x_test_sort)\n",
    "        \n",
    "    # smoothing splines, parameter s=.05\n",
    "    if index == 4:\n",
    "        inte = scipy.interpolate.UnivariateSpline(x_sort, y_sort, s=.05)   \n",
    "        y_int_or = inte(x_test_sort)\n",
    "        \n",
    "    # \"un\"sort the y_int dat to match the original order of x_test \n",
    "    undo_ind = np.searchsorted(x_test_sort, x_test)\n",
    "    # interpolated values returned in order matching the unordered data from the x data in ch1_1_test.txt file\n",
    "    y_int = y_int_or[undo_ind]\n",
    "    \n",
    "    return y_int\n",
    "\n"
   ]
  },
  {
   "cell_type": "code",
   "execution_count": null,
   "id": "88232116",
   "metadata": {},
   "outputs": [],
   "source": [
    "# plotting data and results as a sanity check \n",
    "\n",
    "# interpolated from the test data\n",
    "y_int_unsorted = solve_task1()\n",
    "\n",
    "# Load .txt files into numpy arrays\n",
    "data = np.loadtxt(\"ch1_1_data.txt\")\n",
    "x_test = np.loadtxt(\"ch1_1_test.txt\")\n",
    "\n",
    "# data rows from the data file\n",
    "x_data = data[0]    \n",
    "y_data = data[1]\n",
    "\n",
    "#sort x_data and y_data\n",
    "ind = np.argsort(x_data)\n",
    "# indices to sort the arrays\n",
    "x_sort = x_data[ind]\n",
    "y_sort = y_data[ind]\n",
    "\n",
    "\n",
    "# plot\n",
    "plt.plot(x_sort, y_sort, \"b-\", label=\"Given X and Y data\")\n",
    "plt.plot(x_test, y_int_unsorted, \"rx\", label=\"Interpolated test data\")\n",
    "plt.legend();"
   ]
  },
  {
   "cell_type": "markdown",
   "id": "fitting-collaboration",
   "metadata": {
    "deletable": false,
    "editable": false,
    "nbgrader": {
     "cell_type": "markdown",
     "checksum": "3ca88332f0c742cd8cfde4b64b449168",
     "grade": false,
     "grade_id": "cell-73904f7eb0cf0357",
     "locked": true,
     "schema_version": 3,
     "solution": false,
     "task": false
    }
   },
   "source": [
    "We will add tests to the cell below when grading."
   ]
  },
  {
   "cell_type": "code",
   "execution_count": null,
   "id": "orange-incidence",
   "metadata": {
    "deletable": false,
    "editable": false,
    "nbgrader": {
     "cell_type": "code",
     "checksum": "4fd7f981553f9bc9e960a1eaa31e84c5",
     "grade": true,
     "grade_id": "p1-test",
     "locked": true,
     "points": 0,
     "schema_version": 3,
     "solution": false,
     "task": false
    }
   },
   "outputs": [],
   "source": [
    "# This function will be tested with this \n",
    "# assert ( np.mean((solve_task1()- YTRUE )**2) < 0.1)\n",
    "\n",
    "print (\"Testing, testing...\")\n",
    "\n"
   ]
  },
  {
   "cell_type": "markdown",
   "id": "appropriate-arrival",
   "metadata": {
    "deletable": false,
    "editable": false,
    "nbgrader": {
     "cell_type": "markdown",
     "checksum": "f51367b5123ec1532067d7eca3760abe",
     "grade": false,
     "grade_id": "cell-6b2a06078effc715",
     "locked": true,
     "schema_version": 3,
     "solution": false,
     "task": false
    }
   },
   "source": [
    "# Problem 2 - 80 points\n",
    "\n",
    "This problem is divided into 5 tasks, worth the following point values:\n",
    "\n",
    "1. 20 points\n",
    "2. 15 points\n",
    "3. 15 points\n",
    "4. 20 points\n",
    "5. 10 points\n",
    "\n",
    "## The 1D time-independent Schrödinger equation\n",
    "\n",
    "In one dimension, the time-independent Schrödinger equation is given by\n",
    "\n",
    "$\n",
    "\\large\n",
    "\\begin{align}\n",
    "\\mathbf{H}\\ \\mathbf{\\Psi} = E\\ \\mathbf{\\Psi}\n",
    "\\end{align}\n",
    "$,\n",
    "\n",
    "where $\\mathbf{H}$ is the Hamiltonian. Here, $E$ and $\\mathbf{\\Psi}$ are the eigenvectors and eigenvalues of $\\mathbf{H}$, respectively. The Hamiltonian is expressed as\n",
    "\n",
    "$\n",
    "\\Large\n",
    "\\begin{align}\n",
    "H = -\\frac{\\hbar^2}{2m} \\nabla^2 + V(r),\n",
    "\\end{align}\n",
    "$\n",
    "\n",
    "where $V(r)$ is the electric potential energy, given by\n",
    "\n",
    "$\n",
    "\\Large\n",
    "\\begin{align}\n",
    "V(r) = -\\frac{e^{2}}{4 \\pi \\epsilon_{0} r}.\n",
    "\\end{align}\n",
    "$\n",
    "\n",
    "In matrix form, the Schrödinger equation is solved for N equally spaced values of r, such that r goes from ($r_{max}$/N) to $r_{max}$, where $r_{max} \\sim 1.5$ nm is a sensible choice. To turn the Schrödinger equation into a matrix, $\\textbf{V(r)}$ should be a diagonal matrix with the values of the potential at each r along the diagonal.\n",
    "\n",
    "For this problem, the constants for the above equations have been defined for you in the cell below. Please use these for your calculations.\n",
    "* $\\frac{\\hbar^{2}}{2m} = 0.0380998\\ nm^{2} eV$ (called `c1` below)\n",
    "* $\\frac{e^{2}}{4 \\pi \\epsilon_{0}} = 1.43996\\ nm\\ eV$ (called `c2` below)\n",
    "* $r_{0} = 0.0529177\\ nm$ (the Bhor radius, called `r0` below)\n",
    "* Planck constant $h = 6.62606896\\times10^{-34} J s$ (`h`)\n",
    "* Speed of light $c = 299792458\\ m/s$ (`c`)"
   ]
  },
  {
   "cell_type": "code",
   "execution_count": null,
   "id": "frank-davis",
   "metadata": {},
   "outputs": [],
   "source": [
    "# Constants (use these)\n",
    "c1 = 0.0380998 # nm^2 eV\n",
    "c2 = 1.43996 # nm eV\n",
    "r0 = 0.0529177 # nm\n",
    "h  = 6.62606896e-34 # J s\n",
    "c  = 299792458. # m/s\n",
    "hc = 1239.8419 # eV nm"
   ]
  },
  {
   "cell_type": "markdown",
   "id": "happy-methodology",
   "metadata": {
    "deletable": false,
    "editable": false,
    "nbgrader": {
     "cell_type": "markdown",
     "checksum": "96bcb3e0765c26d6d181b60ffe488aab",
     "grade": false,
     "grade_id": "cell-268fb1e71c1478e4",
     "locked": true,
     "schema_version": 3,
     "solution": false,
     "task": false
    }
   },
   "source": [
    "# Task 1 - 20 points\n",
    "\n",
    "For this task, you will create the matrix representing $\\mathbf{H}$ and find the two lowest eigenvalues. These correspond to the two lowest energy levels of the Hydrogen atom.\n",
    "\n",
    "In the constants defined above, the theoretical values for the first two energy levels are given by\n",
    "\n",
    "$\n",
    "\\Large\n",
    "\\begin{align}\n",
    "e_{n} = \\frac{c_2}{2 r_0 n^2},\n",
    "\\end{align}\n",
    "$\n",
    "\n",
    "where $r_{0}$ is the Bhor radius, given by\n",
    "\n",
    "$\n",
    "\\Large\n",
    "\\begin{align}\n",
    "r_{0} = \\frac{4 \\pi \\epsilon_{0} \\hbar^{2}}{m e^{2}}.\n",
    "\\end{align}\n",
    "$\n",
    "\n",
    "In the cells below, write a function that creates a matrix representing the Hamiltonian and returns the two lowest eigenvalues. **This function should take a single argument, N, for the size of the matrix.**\n",
    "\n",
    "Use your function to determine the minimum value of N (within a factor of 2) required to compute the two lowest energy levels to within **0.05\\%** of the theoretical values. Print the values of the two energy levels and the error for each, where the error is $abs((E_{calc} - E_{theo}) / E_{theo})$. $E_{calc}$ is the calculated value and $E_{theo}$ is the theoretical value. **Note, your code should iteratively call your function while increasing N (e.g., doubling it each time) and stop when the desired error is reached. It is not sufficient to simply run the code at a single value of N that meets the criteria.**"
   ]
  },
  {
   "cell_type": "code",
   "execution_count": null,
   "id": "6dce3907",
   "metadata": {},
   "outputs": [],
   "source": [
    "from scipy import sparse\n",
    "from scipy.sparse import linalg as splinalg\n",
    "import math"
   ]
  },
  {
   "cell_type": "code",
   "execution_count": null,
   "id": "individual-coverage",
   "metadata": {
    "deletable": false,
    "nbgrader": {
     "cell_type": "code",
     "checksum": "e87b1dd5ee5f2abdad0b56b410ec1114",
     "grade": false,
     "grade_id": "p2t1-answer",
     "locked": false,
     "schema_version": 3,
     "solution": true,
     "task": false
    }
   },
   "outputs": [],
   "source": [
    "def hamiltonian_solver(N):\n",
    "    \n",
    "    # tolerance 0.05%\n",
    "    error_crit = 0.0005\n",
    "\n",
    "    # setting initial errors for the energy values\n",
    "    error_en0 = 1\n",
    "    error_en1 = 1 \n",
    "    \n",
    "    # loop that stops when the energy errors are smaller than the tolerance\n",
    "    while error_en0 and error_en1 > error_crit: \n",
    "        \n",
    "        r_max = 1.5 # in nm (maximum radious used)\n",
    "        r_min = 1.5/N  # in nm (minimum radious used)\n",
    "\n",
    "\n",
    "        # define the laplace part of the hamiltonian\n",
    "        diagonals = [1, -2, 1]\n",
    "        offsets = [-1, 0, 1]\n",
    "        laplace_m = -1*c1*((1/r_min)**2)*sparse.diags(diagonals, offsets, shape=(N, N))\n",
    "\n",
    "        # define the electric potential part of the equation\n",
    "        diag_dist  = np.linspace(r_min, r_max, N)\n",
    "        potential_m = sparse.diags([-1*c2/diag_dist], [0], shape=(N,N))\n",
    "\n",
    "        # total hamiltonian \n",
    "        hamiltonian_m = laplace_m + potential_m\n",
    "\n",
    "        # two lowest eginvalues and eigenvectors\n",
    "        evals, evecs = splinalg.eigsh(hamiltonian_m, k=2, which=\"SA\")\n",
    "\n",
    "        # error of the eigenvalues\n",
    "        theo_value_0 = -c2/(2*r0*(1**2))  # theoretical value for lowest energy \n",
    "        error_en0 = abs((evals[0] - theo_value_0)/ theo_value_0)   \n",
    "\n",
    "        theo_value_1 = -c2/(2*r0*(2**2))   # theoretical value for second-lowest energy\n",
    "        error_en1 = abs((evals[1] - theo_value_1)/ theo_value_1)\n",
    "        \n",
    "        # increment the steps (separation)\n",
    "        N *= 2\n",
    "    \n",
    "        \n",
    "    \n",
    "    return N, evals[0], error_en0, evals[1], error_en1"
   ]
  },
  {
   "cell_type": "code",
   "execution_count": null,
   "id": "65ff832d",
   "metadata": {},
   "outputs": [],
   "source": [
    "print(\"Min N: \", hamiltonian_solver(4)[0])\n",
    "print(\"Lowest energy value: \", hamiltonian_solver(4)[1], \"eV, with error: \", hamiltonian_solver(4)[2], \"eV\" )\n",
    "print(\"Second-lowest energy value: \", hamiltonian_solver(4)[3], \"eV, with error: \", hamiltonian_solver(4)[4], \"eV\" )"
   ]
  },
  {
   "cell_type": "markdown",
   "id": "piano-flashing",
   "metadata": {
    "deletable": false,
    "editable": false,
    "nbgrader": {
     "cell_type": "markdown",
     "checksum": "1dc54fc537b9404168fc707f6481e0c1",
     "grade": false,
     "grade_id": "cell-c1ac14c82e6bbffe",
     "locked": true,
     "schema_version": 3,
     "solution": false,
     "task": false
    }
   },
   "source": [
    "## Task 2 - 15 points\n",
    "\n",
    "Now, imagine the Coulomb law has a minor modification to it, and is now given by:\n",
    "\n",
    "$\n",
    "\\Large\n",
    "\\begin{align}\n",
    "F(r) = -\\frac{e^{2}}{4 \\pi \\epsilon_{0} r^{2}} \\left( \\frac{r}{r_{0}} \\right)^{\\alpha},\n",
    "\\end{align}\n",
    "$\n",
    "\n",
    "where $\\alpha = 0.01$ and $r_{0}$ is the Bhor radius, given by:\n",
    "\n",
    "$\n",
    "\\Large\n",
    "\\begin{align}\n",
    "r_{0} = \\frac{4 \\pi \\epsilon_{0} \\hbar^{2}}{m e^{2}}.\n",
    "\\end{align}\n",
    "$\n",
    "\n",
    "The electric potential is given by:\n",
    "\n",
    "$\n",
    "\\Large\n",
    "\\begin{align}\n",
    "V(r) = \\int_{r}^{\\infty} F(r^{\\prime}) dr^{\\prime}\n",
    "\\end{align}\n",
    "$\n",
    "\n",
    "Using the constants defined previously, write a function to calculate V(r) using the modified Coulomb law by numerically integrating the equation above. This function need only accept a single value of radius and not an entire array. Your function must agree with the analytical value to within $10^{-5}$ eV.\n",
    "\n",
    "Your function should go in the cell below using the template for `potential_numerical`.\n",
    "\n",
    "In another cell, make a plot of V(r) over the range of r values used in Task 1. Remember to label axes and show units."
   ]
  },
  {
   "cell_type": "code",
   "execution_count": null,
   "id": "56f53f11",
   "metadata": {},
   "outputs": [],
   "source": [
    "from scipy import integrate"
   ]
  },
  {
   "cell_type": "code",
   "execution_count": null,
   "id": "stunning-institute",
   "metadata": {
    "deletable": false,
    "nbgrader": {
     "cell_type": "code",
     "checksum": "4d52cec8ae58d94a6e020c8c5fc1d2c3",
     "grade": false,
     "grade_id": "p2t2-answer",
     "locked": false,
     "schema_version": 3,
     "solution": true,
     "task": false
    }
   },
   "outputs": [],
   "source": [
    "# function to calculate V(r) by numerically integrating Coulomb law\n",
    "def potential_numerical(r, alpha):\n",
    "   \n",
    "    # define the coulomb law force function\n",
    "    force = lambda r, alpha: -c2*np.power(r,alpha)*np.power(r0, -alpha)*np.power(r,-2)\n",
    "    \n",
    "    # integral value that gives the potential\n",
    "    int_val = integrate.quad(force, r, np.inf, args = (alpha,))\n",
    "\n",
    "    return int_val[0]"
   ]
  },
  {
   "cell_type": "markdown",
   "id": "female-methodology",
   "metadata": {
    "deletable": false,
    "editable": false,
    "nbgrader": {
     "cell_type": "markdown",
     "checksum": "bd30d690274cad5f6a29d6295448f9fe",
     "grade": false,
     "grade_id": "cell-c74656c6ee48b39e",
     "locked": true,
     "schema_version": 3,
     "solution": false,
     "task": false
    }
   },
   "source": [
    "The cell below will test your function for a few values of radius."
   ]
  },
  {
   "cell_type": "code",
   "execution_count": null,
   "id": "known-stations",
   "metadata": {
    "deletable": false,
    "editable": false,
    "nbgrader": {
     "cell_type": "code",
     "checksum": "d35fbd28772bfd93f9785dc8ea3bd619",
     "grade": true,
     "grade_id": "p2t2-test",
     "locked": true,
     "points": 0,
     "schema_version": 3,
     "solution": false,
     "task": false
    }
   },
   "outputs": [],
   "source": [
    "def potential_exact(r, alpha):\n",
    "    return c2*np.power(r,alpha-1)*np.power(r0,-alpha) / (alpha-1)\n",
    "\n",
    "for my_r in np.linspace(0.01, 1, 100):\n",
    "    diff = abs(potential_numerical(my_r, 0.01) - potential_exact(my_r, 0.01))\n",
    "    assert(diff <= 1e-5)"
   ]
  },
  {
   "cell_type": "markdown",
   "id": "mechanical-polls",
   "metadata": {
    "deletable": false,
    "editable": false,
    "nbgrader": {
     "cell_type": "markdown",
     "checksum": "42d5815be4020709219ea0381c001931",
     "grade": false,
     "grade_id": "cell-484fe07f737ba396",
     "locked": true,
     "schema_version": 3,
     "solution": false,
     "task": false
    }
   },
   "source": [
    "Plot V(r) in the cell below."
   ]
  },
  {
   "cell_type": "code",
   "execution_count": null,
   "id": "orange-robert",
   "metadata": {
    "deletable": false,
    "nbgrader": {
     "cell_type": "code",
     "checksum": "56bf09fd2364d6f3778647ec3a0fb3f9",
     "grade": false,
     "grade_id": "p2t2-plot",
     "locked": false,
     "schema_version": 3,
     "solution": true,
     "task": false
    }
   },
   "outputs": [],
   "source": [
    "steps = 1024  # choosen value from task \n",
    "r_max = 1.5 # in nm \n",
    "r_min = 1.5/steps\n",
    "\n",
    "# list to store potential values to plot\n",
    "V_r_val = []\n",
    "\n",
    "# points for my_r and x grid for plot\n",
    "x_grid = np.linspace(r_min, r_max, steps)\n",
    "\n",
    "for my_r in x_grid:\n",
    "    V_r_val.append(potential_numerical(my_r, 0.01))\n",
    "    \n",
    "# plot    \n",
    "plt.plot(x_grid, V_r_val, \"b-\")\n",
    "plt.title(\"Potential dependent of radial distance\")\n",
    "plt.xscale(\"log\")\n",
    "plt.ylabel(\"V(r)  [eV]\")\n",
    "plt.xlabel(\"r [nm] (log scale)\");"
   ]
  },
  {
   "cell_type": "markdown",
   "id": "iraqi-sweden",
   "metadata": {
    "deletable": false,
    "editable": false,
    "nbgrader": {
     "cell_type": "markdown",
     "checksum": "b17c3076fc959a0cd9e28c547d1da353",
     "grade": false,
     "grade_id": "cell-51caa9b5ace2e178",
     "locked": true,
     "schema_version": 3,
     "solution": false,
     "task": false
    }
   },
   "source": [
    "## Task 3 - 15 points\n",
    "\n",
    "Write a function to calculate the first 2 energy levels (eigenvalues of $H$) for $\\alpha = 0.01$ and print out the values in eV. The values must be accurate to 0.01 eV. Use the function template `calculate_energy_levels_modified` below for your function. It is fine to call functions you've already written. \n",
    "\n",
    "In the cell after, plot the difference $\\Delta E$ between the two lowest energy levels as a function of $\\alpha$ for $\\alpha = 0$ and $0.01$. Remember axes labels and units."
   ]
  },
  {
   "cell_type": "code",
   "execution_count": null,
   "id": "incorporate-antarctica",
   "metadata": {
    "deletable": false,
    "nbgrader": {
     "cell_type": "code",
     "checksum": "ac452d547a6cbf4f6bfaa7469979501d",
     "grade": false,
     "grade_id": "p2t3-answer",
     "locked": false,
     "schema_version": 3,
     "solution": true,
     "task": false
    }
   },
   "outputs": [],
   "source": [
    "def calculate_energy_levels_modified(N, alpha):\n",
    "    \n",
    "    r_max = 1.5 # in nm (maximum radious used)\n",
    "    r_min = 1.5/N  # in nm (minimum radious used)\n",
    "\n",
    "\n",
    "    # define the laplace part of the equation\n",
    "    diagonals = [1, -2, 1]\n",
    "    offsets = [-1, 0, 1]\n",
    "    laplace_m = -1*c1*((1/r_min)**2)*sparse.diags(diagonals, offsets, shape=(N, N))\n",
    "\n",
    "    # calculating potential part of the equation\n",
    "    V_values = []   # list to store the values \n",
    "    for my_r in np.linspace(r_min, r_max, N):\n",
    "        V_values.append(potential_numerical(my_r, alpha))\n",
    "    \n",
    "    # convert list into numpy array for easier manipulation\n",
    "    np.array(V_values)\n",
    "    potential_m = sparse.diags([V_values], [0], shape=(N,N))\n",
    "\n",
    "    # total hamiltonian \n",
    "    hamiltonian_m = laplace_m + potential_m\n",
    "\n",
    "    # two lowest eginvalues and eigenvectors\n",
    "    evals, evecs = splinalg.eigsh(hamiltonian_m, k=2, which=\"SA\")\n",
    "    \n",
    "    return evals \n",
    "\n"
   ]
  },
  {
   "cell_type": "markdown",
   "id": "universal-joining",
   "metadata": {
    "deletable": false,
    "editable": false,
    "nbgrader": {
     "cell_type": "markdown",
     "checksum": "af2c8383193c38fb3c7f82c7085f3c86",
     "grade": false,
     "grade_id": "cell-210704ac6f4c83e7",
     "locked": true,
     "schema_version": 3,
     "solution": false,
     "task": false
    }
   },
   "source": [
    "The cell below will test your function against the correct values."
   ]
  },
  {
   "cell_type": "code",
   "execution_count": null,
   "id": "welsh-salvation",
   "metadata": {
    "deletable": false,
    "editable": false,
    "nbgrader": {
     "cell_type": "code",
     "checksum": "f55faa3b17e7995df7ec2e75ca4032b8",
     "grade": true,
     "grade_id": "p2t3-test",
     "locked": true,
     "points": 0,
     "schema_version": 3,
     "solution": false,
     "task": false
    }
   },
   "outputs": [],
   "source": [
    "N = 1024\n",
    "alpha = 0.01\n",
    "E1, E2 = calculate_energy_levels_modified(N, alpha)"
   ]
  },
  {
   "cell_type": "code",
   "execution_count": null,
   "id": "0c35bb1c",
   "metadata": {},
   "outputs": [],
   "source": [
    "# print two lowest energy values with modified potential  for different alphas\n",
    "print(\"For alpha = 0.01: E0 = \", E1, \"(eV) and E1 = \", E2, \" (eV)\")"
   ]
  },
  {
   "cell_type": "markdown",
   "id": "tracked-nation",
   "metadata": {
    "deletable": false,
    "editable": false,
    "nbgrader": {
     "cell_type": "markdown",
     "checksum": "a810a756c3652313db6100ada7066804",
     "grade": false,
     "grade_id": "cell-936bf792ceef031b",
     "locked": true,
     "schema_version": 3,
     "solution": false,
     "task": false
    }
   },
   "source": [
    "In the cell below, make the plot of $\\Delta E$ vs. $\\alpha$ as instructed above."
   ]
  },
  {
   "cell_type": "code",
   "execution_count": null,
   "id": "secure-breakdown",
   "metadata": {
    "deletable": false,
    "nbgrader": {
     "cell_type": "code",
     "checksum": "84aa6f9312979323b057cd11c96edc71",
     "grade": false,
     "grade_id": "p2t3-plot",
     "locked": false,
     "schema_version": 3,
     "solution": true,
     "task": false
    }
   },
   "outputs": [],
   "source": [
    "dif_energy = []   # list to store the difference in energy values \n",
    "alpha_new = 0\n",
    "grid = np.array([0, 0.01])   # points for alpha and x grid for plot\n",
    "\n",
    "# calculating thne difference in energy between two lowest energy values \n",
    "for alpha_new in grid:\n",
    "    en_0 = calculate_energy_levels_modified(N, alpha_new)[0]\n",
    "    en_1 = calculate_energy_levels_modified(N, alpha_new)[1]\n",
    "    diff_e = en_1 - en_0\n",
    "    dif_energy.append(en_1 - en_0)\n",
    "       \n",
    "# plot    \n",
    "plt.plot(grid, dif_energy, \"b\")\n",
    "plt.xlabel(\"Alpha\")\n",
    "plt.ylabel(\"E1 - E0 [eV]\")\n",
    "plt.title(\"Energy difference between lowest energy values E1 and E0\");\n",
    "    "
   ]
  },
  {
   "cell_type": "markdown",
   "id": "white-newport",
   "metadata": {
    "deletable": false,
    "editable": false,
    "nbgrader": {
     "cell_type": "markdown",
     "checksum": "7ceda21370e789097d65085703bc2ab2",
     "grade": false,
     "grade_id": "cell-5cb872bbd2dc8c06",
     "locked": true,
     "schema_version": 3,
     "solution": false,
     "task": false
    }
   },
   "source": [
    "## Task 4 - 20 points\n",
    "\n",
    "The transition between the 1st and 2nd states is known as the Lyman-$\\alpha$ transition. The photon emitted by this transition will have a wavelength, $\\lambda$, given by\n",
    "\n",
    "$\n",
    "\\Large\n",
    "\\begin{align}\n",
    "\\lambda = \\frac{hc}{\\Delta E}.\n",
    "\\end{align}\n",
    "$\n",
    "\n",
    "Imagine the wavelength of this transition has been measured as $\\lambda = 121.5 \\pm 0.1$ nm. What is the maximum value of $\\alpha > 0$ consistent with this measurement (i.e., the largest $\\alpha$ such that the predicted and measured wavelengths differ by less than 0.1 nm)?\n",
    "\n",
    "Using the template `find_alpha_max`, write a function that performs the above computation and returns the value of $\\alpha_{max}$. Your value for $\\alpha_{max}$ should be within 1% of the correct answer."
   ]
  },
  {
   "cell_type": "code",
   "execution_count": null,
   "id": "32d85048",
   "metadata": {},
   "outputs": [],
   "source": [
    "import scipy.optimize as opt"
   ]
  },
  {
   "cell_type": "code",
   "execution_count": null,
   "id": "inappropriate-depth",
   "metadata": {
    "deletable": false,
    "nbgrader": {
     "cell_type": "code",
     "checksum": "9b5e5df0ada7feae010cb7634e95befb",
     "grade": false,
     "grade_id": "p2t4-answer",
     "locked": false,
     "schema_version": 3,
     "solution": true,
     "task": false
    }
   },
   "outputs": [],
   "source": [
    "def find_alpha_max():\n",
    "\n",
    "    # define the function in which the roots have to be found\n",
    "    def dif_e_zero(alpha):\n",
    "        \n",
    "        N = 1024\n",
    "        min_wav = 121.4\n",
    "        en_0 = calculate_energy_levels_modified(N, alpha)[0]\n",
    "        en_1 = calculate_energy_levels_modified(N, alpha)[1]\n",
    "        \n",
    "        dif_e = en_1 - en_0\n",
    "        \n",
    "        return hc/dif_e - min_wav\n",
    "    \n",
    "    # computing roots using Brent's method \n",
    "    alpha_max = opt.brentq(dif_e_zero, 0, 0.5)\n",
    "    \n",
    "    return alpha_max"
   ]
  },
  {
   "cell_type": "markdown",
   "id": "several-observation",
   "metadata": {
    "deletable": false,
    "editable": false,
    "nbgrader": {
     "cell_type": "markdown",
     "checksum": "029d9bb4ad970a0f3b58166038c981a4",
     "grade": false,
     "grade_id": "cell-12251fe279fb41cb",
     "locked": true,
     "schema_version": 3,
     "solution": false,
     "task": false
    }
   },
   "source": [
    "The cell below will run your function. You will not be told the correct answer."
   ]
  },
  {
   "cell_type": "code",
   "execution_count": null,
   "id": "curious-limit",
   "metadata": {
    "deletable": false,
    "editable": false,
    "nbgrader": {
     "cell_type": "code",
     "checksum": "8967ce8a95ea408dc7dd43bb3154f106",
     "grade": true,
     "grade_id": "p2t4-test",
     "locked": true,
     "points": 0,
     "schema_version": 3,
     "solution": false,
     "task": false
    }
   },
   "outputs": [],
   "source": [
    "amax = find_alpha_max()\n",
    "print (f\"alpha_max = {amax}.\")"
   ]
  },
  {
   "cell_type": "markdown",
   "id": "respiratory-nickname",
   "metadata": {
    "deletable": false,
    "editable": false,
    "nbgrader": {
     "cell_type": "markdown",
     "checksum": "8c427e3cc4396532e582db4fa871d3e6",
     "grade": false,
     "grade_id": "cell-79ad889c43725b88",
     "locked": true,
     "schema_version": 3,
     "solution": false,
     "task": false
    }
   },
   "source": [
    "## Task 5 - 10 points\n",
    "\n",
    "Knowing the shape of the matrix for of $\\textbf{H}$, is it possible to greatly increase the accuracy of the energy level calculation without a significant increase in computation time? In the cell below, write a function to compute the first two energy levels using the original (unmodified) potential. Your function should run in 15 seconds or less and compute the first two energy levels each to within an accuracy of $5\\times10^{-6}$."
   ]
  },
  {
   "cell_type": "code",
   "execution_count": null,
   "id": "loaded-detective",
   "metadata": {
    "deletable": false,
    "nbgrader": {
     "cell_type": "code",
     "checksum": "eb0ea8a77bee6538ed6e282f3593c6f8",
     "grade": false,
     "grade_id": "p2t5-answer",
     "locked": false,
     "schema_version": 3,
     "solution": true,
     "task": false
    }
   },
   "outputs": [],
   "source": [
    "def calculate_energy_levels_super():\n",
    "\n",
    "    N = 16384\n",
    "    \n",
    "    r_max = 1.5 # in nm \n",
    "    r_min = 1.5/N\n",
    "\n",
    "    # define the laplace part of the equation\n",
    "    diagonals = [1, -2, 1]\n",
    "    offsets = [-1, 0, 1]\n",
    "    laplace_m = -1*c1*((1/r_min)**2)*sparse.diags(diagonals, offsets, shape=(N, N))\n",
    "\n",
    "    # define potential part of the equation\n",
    "    diag_dist  = np.linspace(r_min, r_max, N)\n",
    "\n",
    "    potential_m = sparse.diags([-1*c2/diag_dist], [0], shape=(N,N))\n",
    "\n",
    "    # total hamiltonian \n",
    "    ham = laplace_m + potential_m\n",
    "\n",
    "    # two lowest eginvalues and eigenvectors\n",
    "    # to optimize the finding of\n",
    "    evals, evecs = sparse.linalg.eigsh(ham, k=2, sigma = -50, which=\"LA\")\n",
    "\n",
    "    # error of the eigenvalues\n",
    "    theo_value_0 = -c2/(2*r0*(1**2))\n",
    "    error_0 = abs((evals[0] - theo_value_0)/ theo_value_0)   \n",
    "\n",
    "    theo_value_1 = -c2/(2*r0*(2**2))\n",
    "    error_1 = abs((evals[1] - theo_value_1)/ theo_value_1)\n",
    "        \n",
    "    \n",
    "    return evals"
   ]
  },
  {
   "cell_type": "code",
   "execution_count": null,
   "id": "statistical-validity",
   "metadata": {
    "deletable": false,
    "editable": false,
    "nbgrader": {
     "cell_type": "code",
     "checksum": "9ef37861d20b1722978a1fa5ec9b7b72",
     "grade": true,
     "grade_id": "p2t5-test",
     "locked": true,
     "points": 0,
     "schema_version": 3,
     "solution": false,
     "task": false
    }
   },
   "outputs": [],
   "source": [
    "t1 = time.time()\n",
    "my_e1, my_e2 = calculate_energy_levels_super()\n",
    "t2 = time.time()\n",
    "print (f\"Calculation took {t2-t1} seconds.\")\n",
    "\n",
    "e1_th = -c2 / (2 * r0)\n",
    "e2_th = e1_th / 4\n",
    "\n",
    "er1 = abs((my_e1 - e1_th) / e1_th)\n",
    "er2 = abs((my_e2 - e2_th) / e2_th)\n",
    "print (f\"Err1 = {er1}, Err2 = {er2}.\")"
   ]
  }
 ],
 "metadata": {
  "kernelspec": {
   "display_name": "Python 3 (ipykernel)",
   "language": "python",
   "name": "python3"
  },
  "language_info": {
   "codemirror_mode": {
    "name": "ipython",
    "version": 3
   },
   "file_extension": ".py",
   "mimetype": "text/x-python",
   "name": "python",
   "nbconvert_exporter": "python",
   "pygments_lexer": "ipython3",
   "version": "3.9.12"
  }
 },
 "nbformat": 4,
 "nbformat_minor": 5
}
